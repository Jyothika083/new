{
  "metadata": {
    "kernelspec": {
      "display_name": "Python 3",
      "name": "python3"
    },
    "language_info": {
      "name": "python",
      "version": "3.10.13",
      "mimetype": "text/x-python",
      "codemirror_mode": {
        "name": "ipython",
        "version": 3
      },
      "pygments_lexer": "ipython3",
      "nbconvert_exporter": "python",
      "file_extension": ".py"
    },
    "kaggle": {
      "accelerator": "nvidiaTeslaT4",
      "dataSources": [
        {
          "sourceId": 4246862,
          "sourceType": "datasetVersion",
          "datasetId": 2502545
        }
      ],
      "dockerImageVersionId": 30732,
      "isInternetEnabled": false,
      "language": "python",
      "sourceType": "notebook",
      "isGpuEnabled": true
    },
    "colab": {
      "name": "MachineTranslation🌐|Encoder-Decoder🔄|Attention🔍",
      "provenance": [],
      "gpuType": "T4",
      "include_colab_link": true
    },
    "accelerator": "GPU"
  },
  "nbformat_minor": 0,
  "nbformat": 4,
  "cells": [
    {
      "cell_type": "markdown",
      "metadata": {
        "id": "view-in-github",
        "colab_type": "text"
      },
      "source": [
        "<a href=\"https://colab.research.google.com/github/Jyothika083/new/blob/main/MachineTranslation%F0%9F%8C%90%7CEncoder_Decoder%F0%9F%94%84%7CAttention%F0%9F%94%8D.ipynb\" target=\"_parent\"><img src=\"https://colab.research.google.com/assets/colab-badge.svg\" alt=\"Open In Colab\"/></a>"
      ]
    },
    {
      "cell_type": "code",
      "source": [
        "!pip install contractions"
      ],
      "metadata": {
        "execution": {
          "iopub.status.busy": "2024-09-19T09:16:43.487143Z",
          "iopub.execute_input": "2024-09-19T09:16:43.487561Z",
          "iopub.status.idle": "2024-09-19T09:16:57.735388Z",
          "shell.execute_reply.started": "2024-09-19T09:16:43.487531Z",
          "shell.execute_reply": "2024-09-19T09:16:57.734455Z"
        },
        "trusted": true,
        "colab": {
          "base_uri": "https://localhost:8080/"
        },
        "id": "6F15cZ9BYd9S",
        "outputId": "e0eb0d51-129e-4de7-bd4e-4b2047e7f5e4"
      },
      "outputs": [
        {
          "output_type": "stream",
          "name": "stdout",
          "text": [
            "Collecting contractions\n",
            "  Downloading contractions-0.1.73-py2.py3-none-any.whl.metadata (1.2 kB)\n",
            "Collecting textsearch>=0.0.21 (from contractions)\n",
            "  Downloading textsearch-0.0.24-py2.py3-none-any.whl.metadata (1.2 kB)\n",
            "Collecting anyascii (from textsearch>=0.0.21->contractions)\n",
            "  Downloading anyascii-0.3.2-py3-none-any.whl.metadata (1.5 kB)\n",
            "Collecting pyahocorasick (from textsearch>=0.0.21->contractions)\n",
            "  Downloading pyahocorasick-2.1.0-cp310-cp310-manylinux_2_5_x86_64.manylinux1_x86_64.manylinux_2_12_x86_64.manylinux2010_x86_64.whl.metadata (13 kB)\n",
            "Downloading contractions-0.1.73-py2.py3-none-any.whl (8.7 kB)\n",
            "Downloading textsearch-0.0.24-py2.py3-none-any.whl (7.6 kB)\n",
            "Downloading anyascii-0.3.2-py3-none-any.whl (289 kB)\n",
            "\u001b[2K   \u001b[90m━━━━━━━━━━━━━━━━━━━━━━━━━━━━━━━━━━━━━━━━\u001b[0m \u001b[32m289.9/289.9 kB\u001b[0m \u001b[31m11.2 MB/s\u001b[0m eta \u001b[36m0:00:00\u001b[0m\n",
            "\u001b[?25hDownloading pyahocorasick-2.1.0-cp310-cp310-manylinux_2_5_x86_64.manylinux1_x86_64.manylinux_2_12_x86_64.manylinux2010_x86_64.whl (110 kB)\n",
            "\u001b[2K   \u001b[90m━━━━━━━━━━━━━━━━━━━━━━━━━━━━━━━━━━━━━━━━\u001b[0m \u001b[32m110.7/110.7 kB\u001b[0m \u001b[31m10.0 MB/s\u001b[0m eta \u001b[36m0:00:00\u001b[0m\n",
            "\u001b[?25hInstalling collected packages: pyahocorasick, anyascii, textsearch, contractions\n",
            "Successfully installed anyascii-0.3.2 contractions-0.1.73 pyahocorasick-2.1.0 textsearch-0.0.24\n"
          ]
        }
      ],
      "execution_count": 2
    },
    {
      "cell_type": "code",
      "source": [
        "from textblob import Word\n",
        "import nltk\n",
        "# nltk.data.path.append(\"/kaggle/working/\")\n",
        "nltk.download('wordnet')"
      ],
      "metadata": {
        "execution": {
          "iopub.status.busy": "2024-09-19T09:16:57.737452Z",
          "iopub.execute_input": "2024-09-19T09:16:57.737719Z",
          "iopub.status.idle": "2024-09-19T09:16:59.070203Z",
          "shell.execute_reply.started": "2024-09-19T09:16:57.737694Z",
          "shell.execute_reply": "2024-09-19T09:16:59.069326Z"
        },
        "trusted": true,
        "colab": {
          "base_uri": "https://localhost:8080/"
        },
        "id": "uFFU3Jq6Yd9T",
        "outputId": "22959dab-405c-4719-82f3-e388bffd8231"
      },
      "outputs": [
        {
          "output_type": "stream",
          "name": "stderr",
          "text": [
            "[nltk_data] Downloading package wordnet to /root/nltk_data...\n"
          ]
        },
        {
          "output_type": "execute_result",
          "data": {
            "text/plain": [
              "True"
            ]
          },
          "metadata": {},
          "execution_count": 3
        }
      ],
      "execution_count": 3
    },
    {
      "cell_type": "code",
      "source": [
        "# Libraray for Data Manipulation\n",
        "import numpy as np\n",
        "import pandas as pd\n",
        "\n",
        "# Libraray for Data Visualisation\n",
        "import seaborn as sns\n",
        "import matplotlib.pyplot as plt\n",
        "sns.set(style=\"white\",font_scale=1.5)\n",
        "sns.set(rc={\"axes.facecolor\":\"#FFFAF0\",\"figure.facecolor\":\"#FFFAF0\"})\n",
        "sns.set_context(\"poster\",font_scale = .7)\n",
        "\n",
        "# Library for preprocessing\n",
        "import contractions\n",
        "from sklearn.feature_extraction.text import CountVectorizer\n",
        "from sklearn.preprocessing import LabelBinarizer\n",
        "from nltk.corpus import stopwords\n",
        "from nltk.stem.porter import PorterStemmer\n",
        "from wordcloud import WordCloud,STOPWORDS\n",
        "from nltk.stem import WordNetLemmatizer\n",
        "from nltk.tokenize import word_tokenize,sent_tokenize\n",
        "import spacy\n",
        "import math\n",
        "from gensim.models import Word2Vec\n",
        "from sklearn.feature_extraction.text import TfidfVectorizer\n",
        "from joblib import Parallel, delayed\n",
        "import re,string,unicodedata\n",
        "from sklearn.model_selection import train_test_split\n",
        "from textblob import TextBlob\n",
        "from scipy.sparse import lil_matrix\n",
        "from tensorflow.keras.preprocessing.sequence import pad_sequences\n",
        "from nltk import pos_tag\n",
        "\n",
        "# Library for model building\n",
        "from tensorflow.keras.regularizers import l2\n",
        "import tensorflow\n",
        "import keras\n",
        "from keras import layers\n",
        "from tensorflow.keras.preprocessing.text import Tokenizer\n",
        "from keras.models import Sequential,Model\n",
        "#from attention import BahdanauAttention\n",
        "from keras.layers import SimpleRNN,LSTM,GRU, Embedding, Dense, SpatialDropout1D, Dropout, BatchNormalization, Bidirectional, Attention, Input\n",
        "from sklearn.metrics import accuracy_score\n",
        "from tensorflow.keras.initializers import GlorotUniform\n",
        "from tensorflow.keras.optimizers import Adam\n",
        "\n",
        "#Library to overcome Warnings\n",
        "import warnings\n",
        "warnings.filterwarnings('ignore')\n",
        "\n",
        "# import os\n",
        "# for dirname, _, filenames in os.walk('/kaggle/input'):\n",
        "#     for filename in filenames:\n",
        "#         print(os.path.join(dirname, filename))"
      ],
      "metadata": {
        "execution": {
          "iopub.status.busy": "2024-09-19T09:16:59.071411Z",
          "iopub.execute_input": "2024-09-19T09:16:59.071721Z",
          "iopub.status.idle": "2024-09-19T09:17:33.813287Z",
          "shell.execute_reply.started": "2024-09-19T09:16:59.071694Z",
          "shell.execute_reply": "2024-09-19T09:17:33.812287Z"
        },
        "trusted": true,
        "id": "pGyPhrrGYd9T"
      },
      "outputs": [],
      "execution_count": 4
    },
    {
      "cell_type": "markdown",
      "source": [
        "<center><div style='color:#ffffff;\n",
        "           display:inline-block;\n",
        "           padding: 5px 5px 5px 5px;\n",
        "           border-radius:5px;\n",
        "           background-color:#78D1E1;\n",
        "           font-size:100%;'><a href=#toc style='text-decoration: none; color:#03001C;'>⬆️ Back To Top</a></div></center>\n",
        "\n",
        "<a id='1.1'></a>\n",
        "# Load and Inspect Dataset\n",
        "\n",
        "<div style=\"padding: 4px;color:white;margin:10;font-size:200%;text-align:center;display:fill;border-radius:10px;overflow:hidden;background-image: url(https://i.postimg.cc/fTDmwnkQ/Miaka.png); background-size: 100% auto;\"></div>\n"
      ],
      "metadata": {
        "id": "xYkm5aopYd9U"
      }
    },
    {
      "cell_type": "code",
      "source": [
        "data = pd.read_csv('/content/Dataset_English_Hindi.csv')"
      ],
      "metadata": {
        "execution": {
          "iopub.status.busy": "2024-09-19T09:17:33.814664Z",
          "iopub.execute_input": "2024-09-19T09:17:33.815526Z",
          "iopub.status.idle": "2024-09-19T09:17:35.050036Z",
          "shell.execute_reply.started": "2024-09-19T09:17:33.815486Z",
          "shell.execute_reply": "2024-09-19T09:17:35.049232Z"
        },
        "trusted": true,
        "id": "z_SECUKhYd9V"
      },
      "outputs": [],
      "execution_count": 6
    },
    {
      "cell_type": "code",
      "source": [
        "data.sample(5)"
      ],
      "metadata": {
        "execution": {
          "iopub.status.busy": "2024-09-19T09:17:35.052426Z",
          "iopub.execute_input": "2024-09-19T09:17:35.052729Z",
          "iopub.status.idle": "2024-09-19T09:17:35.077998Z",
          "shell.execute_reply.started": "2024-09-19T09:17:35.052704Z",
          "shell.execute_reply": "2024-09-19T09:17:35.077024Z"
        },
        "trusted": true,
        "colab": {
          "base_uri": "https://localhost:8080/",
          "height": 206
        },
        "id": "aaIbmKNrYd9V",
        "outputId": "7fd1b375-7a93-407a-c255-f52cbc5b2177"
      },
      "outputs": [
        {
          "output_type": "execute_result",
          "data": {
            "text/plain": [
              "                                                  English  \\\n",
              "57271   In petsonal appeaiance , Ramalmga was a modeia...   \n",
              "60103                    Krishnavartha' the story Krishna   \n",
              "96009                   doesn't have an effect on people.   \n",
              "103312                                           Kentucky   \n",
              "74418                                     Navbharat Times   \n",
              "\n",
              "                                                    Hindi  \n",
              "57271   देखने में रामलिंग मध्यम कद के दुबले व्यक़्ति थ...  \n",
              "60103            कृष्णवार्ता : भगवान श्री कृष्ण की कहानी।  \n",
              "96009                      उसका असर लोगों पर नहीं पड़ता ।  \n",
              "103312                                            केन्टकी  \n",
              "74418                                       नवभारत टाइम्स  "
            ],
            "text/html": [
              "\n",
              "  <div id=\"df-0e3d055a-6c92-4609-a400-13e48769d1cd\" class=\"colab-df-container\">\n",
              "    <div>\n",
              "<style scoped>\n",
              "    .dataframe tbody tr th:only-of-type {\n",
              "        vertical-align: middle;\n",
              "    }\n",
              "\n",
              "    .dataframe tbody tr th {\n",
              "        vertical-align: top;\n",
              "    }\n",
              "\n",
              "    .dataframe thead th {\n",
              "        text-align: right;\n",
              "    }\n",
              "</style>\n",
              "<table border=\"1\" class=\"dataframe\">\n",
              "  <thead>\n",
              "    <tr style=\"text-align: right;\">\n",
              "      <th></th>\n",
              "      <th>English</th>\n",
              "      <th>Hindi</th>\n",
              "    </tr>\n",
              "  </thead>\n",
              "  <tbody>\n",
              "    <tr>\n",
              "      <th>57271</th>\n",
              "      <td>In petsonal appeaiance , Ramalmga was a modeia...</td>\n",
              "      <td>देखने में रामलिंग मध्यम कद के दुबले व्यक़्ति थ...</td>\n",
              "    </tr>\n",
              "    <tr>\n",
              "      <th>60103</th>\n",
              "      <td>Krishnavartha' the story Krishna</td>\n",
              "      <td>कृष्णवार्ता : भगवान श्री कृष्ण की कहानी।</td>\n",
              "    </tr>\n",
              "    <tr>\n",
              "      <th>96009</th>\n",
              "      <td>doesn't have an effect on people.</td>\n",
              "      <td>उसका असर लोगों पर नहीं पड़ता ।</td>\n",
              "    </tr>\n",
              "    <tr>\n",
              "      <th>103312</th>\n",
              "      <td>Kentucky</td>\n",
              "      <td>केन्टकी</td>\n",
              "    </tr>\n",
              "    <tr>\n",
              "      <th>74418</th>\n",
              "      <td>Navbharat Times</td>\n",
              "      <td>नवभारत टाइम्स</td>\n",
              "    </tr>\n",
              "  </tbody>\n",
              "</table>\n",
              "</div>\n",
              "    <div class=\"colab-df-buttons\">\n",
              "\n",
              "  <div class=\"colab-df-container\">\n",
              "    <button class=\"colab-df-convert\" onclick=\"convertToInteractive('df-0e3d055a-6c92-4609-a400-13e48769d1cd')\"\n",
              "            title=\"Convert this dataframe to an interactive table.\"\n",
              "            style=\"display:none;\">\n",
              "\n",
              "  <svg xmlns=\"http://www.w3.org/2000/svg\" height=\"24px\" viewBox=\"0 -960 960 960\">\n",
              "    <path d=\"M120-120v-720h720v720H120Zm60-500h600v-160H180v160Zm220 220h160v-160H400v160Zm0 220h160v-160H400v160ZM180-400h160v-160H180v160Zm440 0h160v-160H620v160ZM180-180h160v-160H180v160Zm440 0h160v-160H620v160Z\"/>\n",
              "  </svg>\n",
              "    </button>\n",
              "\n",
              "  <style>\n",
              "    .colab-df-container {\n",
              "      display:flex;\n",
              "      gap: 12px;\n",
              "    }\n",
              "\n",
              "    .colab-df-convert {\n",
              "      background-color: #E8F0FE;\n",
              "      border: none;\n",
              "      border-radius: 50%;\n",
              "      cursor: pointer;\n",
              "      display: none;\n",
              "      fill: #1967D2;\n",
              "      height: 32px;\n",
              "      padding: 0 0 0 0;\n",
              "      width: 32px;\n",
              "    }\n",
              "\n",
              "    .colab-df-convert:hover {\n",
              "      background-color: #E2EBFA;\n",
              "      box-shadow: 0px 1px 2px rgba(60, 64, 67, 0.3), 0px 1px 3px 1px rgba(60, 64, 67, 0.15);\n",
              "      fill: #174EA6;\n",
              "    }\n",
              "\n",
              "    .colab-df-buttons div {\n",
              "      margin-bottom: 4px;\n",
              "    }\n",
              "\n",
              "    [theme=dark] .colab-df-convert {\n",
              "      background-color: #3B4455;\n",
              "      fill: #D2E3FC;\n",
              "    }\n",
              "\n",
              "    [theme=dark] .colab-df-convert:hover {\n",
              "      background-color: #434B5C;\n",
              "      box-shadow: 0px 1px 3px 1px rgba(0, 0, 0, 0.15);\n",
              "      filter: drop-shadow(0px 1px 2px rgba(0, 0, 0, 0.3));\n",
              "      fill: #FFFFFF;\n",
              "    }\n",
              "  </style>\n",
              "\n",
              "    <script>\n",
              "      const buttonEl =\n",
              "        document.querySelector('#df-0e3d055a-6c92-4609-a400-13e48769d1cd button.colab-df-convert');\n",
              "      buttonEl.style.display =\n",
              "        google.colab.kernel.accessAllowed ? 'block' : 'none';\n",
              "\n",
              "      async function convertToInteractive(key) {\n",
              "        const element = document.querySelector('#df-0e3d055a-6c92-4609-a400-13e48769d1cd');\n",
              "        const dataTable =\n",
              "          await google.colab.kernel.invokeFunction('convertToInteractive',\n",
              "                                                    [key], {});\n",
              "        if (!dataTable) return;\n",
              "\n",
              "        const docLinkHtml = 'Like what you see? Visit the ' +\n",
              "          '<a target=\"_blank\" href=https://colab.research.google.com/notebooks/data_table.ipynb>data table notebook</a>'\n",
              "          + ' to learn more about interactive tables.';\n",
              "        element.innerHTML = '';\n",
              "        dataTable['output_type'] = 'display_data';\n",
              "        await google.colab.output.renderOutput(dataTable, element);\n",
              "        const docLink = document.createElement('div');\n",
              "        docLink.innerHTML = docLinkHtml;\n",
              "        element.appendChild(docLink);\n",
              "      }\n",
              "    </script>\n",
              "  </div>\n",
              "\n",
              "\n",
              "<div id=\"df-25e33cb8-29aa-464e-b355-726cfd180437\">\n",
              "  <button class=\"colab-df-quickchart\" onclick=\"quickchart('df-25e33cb8-29aa-464e-b355-726cfd180437')\"\n",
              "            title=\"Suggest charts\"\n",
              "            style=\"display:none;\">\n",
              "\n",
              "<svg xmlns=\"http://www.w3.org/2000/svg\" height=\"24px\"viewBox=\"0 0 24 24\"\n",
              "     width=\"24px\">\n",
              "    <g>\n",
              "        <path d=\"M19 3H5c-1.1 0-2 .9-2 2v14c0 1.1.9 2 2 2h14c1.1 0 2-.9 2-2V5c0-1.1-.9-2-2-2zM9 17H7v-7h2v7zm4 0h-2V7h2v10zm4 0h-2v-4h2v4z\"/>\n",
              "    </g>\n",
              "</svg>\n",
              "  </button>\n",
              "\n",
              "<style>\n",
              "  .colab-df-quickchart {\n",
              "      --bg-color: #E8F0FE;\n",
              "      --fill-color: #1967D2;\n",
              "      --hover-bg-color: #E2EBFA;\n",
              "      --hover-fill-color: #174EA6;\n",
              "      --disabled-fill-color: #AAA;\n",
              "      --disabled-bg-color: #DDD;\n",
              "  }\n",
              "\n",
              "  [theme=dark] .colab-df-quickchart {\n",
              "      --bg-color: #3B4455;\n",
              "      --fill-color: #D2E3FC;\n",
              "      --hover-bg-color: #434B5C;\n",
              "      --hover-fill-color: #FFFFFF;\n",
              "      --disabled-bg-color: #3B4455;\n",
              "      --disabled-fill-color: #666;\n",
              "  }\n",
              "\n",
              "  .colab-df-quickchart {\n",
              "    background-color: var(--bg-color);\n",
              "    border: none;\n",
              "    border-radius: 50%;\n",
              "    cursor: pointer;\n",
              "    display: none;\n",
              "    fill: var(--fill-color);\n",
              "    height: 32px;\n",
              "    padding: 0;\n",
              "    width: 32px;\n",
              "  }\n",
              "\n",
              "  .colab-df-quickchart:hover {\n",
              "    background-color: var(--hover-bg-color);\n",
              "    box-shadow: 0 1px 2px rgba(60, 64, 67, 0.3), 0 1px 3px 1px rgba(60, 64, 67, 0.15);\n",
              "    fill: var(--button-hover-fill-color);\n",
              "  }\n",
              "\n",
              "  .colab-df-quickchart-complete:disabled,\n",
              "  .colab-df-quickchart-complete:disabled:hover {\n",
              "    background-color: var(--disabled-bg-color);\n",
              "    fill: var(--disabled-fill-color);\n",
              "    box-shadow: none;\n",
              "  }\n",
              "\n",
              "  .colab-df-spinner {\n",
              "    border: 2px solid var(--fill-color);\n",
              "    border-color: transparent;\n",
              "    border-bottom-color: var(--fill-color);\n",
              "    animation:\n",
              "      spin 1s steps(1) infinite;\n",
              "  }\n",
              "\n",
              "  @keyframes spin {\n",
              "    0% {\n",
              "      border-color: transparent;\n",
              "      border-bottom-color: var(--fill-color);\n",
              "      border-left-color: var(--fill-color);\n",
              "    }\n",
              "    20% {\n",
              "      border-color: transparent;\n",
              "      border-left-color: var(--fill-color);\n",
              "      border-top-color: var(--fill-color);\n",
              "    }\n",
              "    30% {\n",
              "      border-color: transparent;\n",
              "      border-left-color: var(--fill-color);\n",
              "      border-top-color: var(--fill-color);\n",
              "      border-right-color: var(--fill-color);\n",
              "    }\n",
              "    40% {\n",
              "      border-color: transparent;\n",
              "      border-right-color: var(--fill-color);\n",
              "      border-top-color: var(--fill-color);\n",
              "    }\n",
              "    60% {\n",
              "      border-color: transparent;\n",
              "      border-right-color: var(--fill-color);\n",
              "    }\n",
              "    80% {\n",
              "      border-color: transparent;\n",
              "      border-right-color: var(--fill-color);\n",
              "      border-bottom-color: var(--fill-color);\n",
              "    }\n",
              "    90% {\n",
              "      border-color: transparent;\n",
              "      border-bottom-color: var(--fill-color);\n",
              "    }\n",
              "  }\n",
              "</style>\n",
              "\n",
              "  <script>\n",
              "    async function quickchart(key) {\n",
              "      const quickchartButtonEl =\n",
              "        document.querySelector('#' + key + ' button');\n",
              "      quickchartButtonEl.disabled = true;  // To prevent multiple clicks.\n",
              "      quickchartButtonEl.classList.add('colab-df-spinner');\n",
              "      try {\n",
              "        const charts = await google.colab.kernel.invokeFunction(\n",
              "            'suggestCharts', [key], {});\n",
              "      } catch (error) {\n",
              "        console.error('Error during call to suggestCharts:', error);\n",
              "      }\n",
              "      quickchartButtonEl.classList.remove('colab-df-spinner');\n",
              "      quickchartButtonEl.classList.add('colab-df-quickchart-complete');\n",
              "    }\n",
              "    (() => {\n",
              "      let quickchartButtonEl =\n",
              "        document.querySelector('#df-25e33cb8-29aa-464e-b355-726cfd180437 button');\n",
              "      quickchartButtonEl.style.display =\n",
              "        google.colab.kernel.accessAllowed ? 'block' : 'none';\n",
              "    })();\n",
              "  </script>\n",
              "</div>\n",
              "\n",
              "    </div>\n",
              "  </div>\n"
            ],
            "application/vnd.google.colaboratory.intrinsic+json": {
              "type": "dataframe",
              "summary": "{\n  \"name\": \"data\",\n  \"rows\": 5,\n  \"fields\": [\n    {\n      \"column\": \"English\",\n      \"properties\": {\n        \"dtype\": \"string\",\n        \"num_unique_values\": 5,\n        \"samples\": [\n          \"Krishnavartha' the story Krishna\",\n          \"Navbharat Times\",\n          \"doesn't have an effect on people.\"\n        ],\n        \"semantic_type\": \"\",\n        \"description\": \"\"\n      }\n    },\n    {\n      \"column\": \"Hindi\",\n      \"properties\": {\n        \"dtype\": \"string\",\n        \"num_unique_values\": 5,\n        \"samples\": [\n          \"\\u0915\\u0943\\u0937\\u094d\\u0923\\u0935\\u093e\\u0930\\u094d\\u0924\\u093e : \\u092d\\u0917\\u0935\\u093e\\u0928 \\u0936\\u094d\\u0930\\u0940 \\u0915\\u0943\\u0937\\u094d\\u0923 \\u0915\\u0940 \\u0915\\u0939\\u093e\\u0928\\u0940\\u0964\",\n          \"\\u0928\\u0935\\u092d\\u093e\\u0930\\u0924 \\u091f\\u093e\\u0907\\u092e\\u094d\\u0938\",\n          \"\\u0909\\u0938\\u0915\\u093e \\u0905\\u0938\\u0930 \\u0932\\u094b\\u0917\\u094b\\u0902 \\u092a\\u0930 \\u0928\\u0939\\u0940\\u0902 \\u092a\\u0921\\u093c\\u0924\\u093e \\u0964\"\n        ],\n        \"semantic_type\": \"\",\n        \"description\": \"\"\n      }\n    }\n  ]\n}"
            }
          },
          "metadata": {},
          "execution_count": 7
        }
      ],
      "execution_count": 7
    },
    {
      "cell_type": "markdown",
      "source": [
        "<center><div style='color:#ffffff;\n",
        "           display:inline-block;\n",
        "           padding: 5px 5px 5px 5px;\n",
        "           border-radius:5px;\n",
        "           background-color:#78D1E1;\n",
        "           font-size:100%;'><a href=#toc style='text-decoration: none; color:#03001C;'>⬆️ Back To Top</a></div></center>\n",
        "\n",
        "<a id='3'></a>\n",
        "# 3 | Data Exploration\n",
        "\n",
        "<div style=\"padding: 4px;color:white;margin:10;font-size:200%;text-align:center;display:fill;border-radius:10px;overflow:hidden;background-image: url(https://i.postimg.cc/fTDmwnkQ/Miaka.png); background-size: 100% auto;\"></div>\n"
      ],
      "metadata": {
        "id": "CD3fjWgzYd9V"
      }
    },
    {
      "cell_type": "markdown",
      "source": [
        "<a id='3.1'></a>\n",
        "#### 3.1. Computing Dimension of Dataset"
      ],
      "metadata": {
        "execution": {
          "iopub.status.busy": "2024-07-07T14:15:32.368708Z",
          "iopub.execute_input": "2024-07-07T14:15:32.369273Z",
          "iopub.status.idle": "2024-07-07T14:15:32.379257Z",
          "shell.execute_reply.started": "2024-07-07T14:15:32.369235Z",
          "shell.execute_reply": "2024-07-07T14:15:32.377314Z"
        },
        "id": "HoPLTORbYd9W"
      }
    },
    {
      "cell_type": "code",
      "source": [
        "print(\"dataset shape: \",data.shape)"
      ],
      "metadata": {
        "execution": {
          "iopub.status.busy": "2024-09-19T09:17:35.079207Z",
          "iopub.execute_input": "2024-09-19T09:17:35.079501Z",
          "iopub.status.idle": "2024-09-19T09:17:35.130802Z",
          "shell.execute_reply.started": "2024-09-19T09:17:35.079476Z",
          "shell.execute_reply": "2024-09-19T09:17:35.130033Z"
        },
        "trusted": true,
        "colab": {
          "base_uri": "https://localhost:8080/"
        },
        "id": "pfOhKNAVYd9W",
        "outputId": "3c89e51a-657c-4f44-b742-1aca57a27a13"
      },
      "outputs": [
        {
          "output_type": "stream",
          "name": "stdout",
          "text": [
            "dataset shape:  (130476, 2)\n"
          ]
        }
      ],
      "execution_count": 8
    },
    {
      "cell_type": "markdown",
      "source": [
        "<div style=\"border-radius:10px; border:#808080 dashed; padding: 15px; background-color: ##F0E68C ; font-size:100%; text-align:left\">\n",
        "\n",
        "<h3 align=\"left\"><font color=brown> 🔍 Inference:</font></h3>\n",
        "\n",
        "* There is total **1561841 records** and **2 columns** availabe in the data."
      ],
      "metadata": {
        "id": "2KiCDVaUYd9X"
      }
    },
    {
      "cell_type": "markdown",
      "source": [
        "<a id='3.2'></a>\n",
        "#### 3.2. Statistical Summary of Dataset"
      ],
      "metadata": {
        "execution": {
          "iopub.status.busy": "2024-07-07T14:16:38.503878Z",
          "iopub.execute_input": "2024-07-07T14:16:38.504356Z",
          "iopub.status.idle": "2024-07-07T14:16:38.512008Z",
          "shell.execute_reply.started": "2024-07-07T14:16:38.504322Z",
          "shell.execute_reply": "2024-07-07T14:16:38.510486Z"
        },
        "id": "4duoMTHOYd9X"
      }
    },
    {
      "cell_type": "code",
      "source": [
        "data.info()"
      ],
      "metadata": {
        "execution": {
          "iopub.status.busy": "2024-09-19T09:17:35.131893Z",
          "iopub.execute_input": "2024-09-19T09:17:35.132233Z",
          "iopub.status.idle": "2024-09-19T09:17:35.182475Z",
          "shell.execute_reply.started": "2024-09-19T09:17:35.132201Z",
          "shell.execute_reply": "2024-09-19T09:17:35.181595Z"
        },
        "trusted": true,
        "colab": {
          "base_uri": "https://localhost:8080/"
        },
        "id": "JmRggWMtYd9X",
        "outputId": "d1cabff9-c494-4366-eb91-69803eabba97"
      },
      "outputs": [
        {
          "output_type": "stream",
          "name": "stdout",
          "text": [
            "<class 'pandas.core.frame.DataFrame'>\n",
            "RangeIndex: 130476 entries, 0 to 130475\n",
            "Data columns (total 2 columns):\n",
            " #   Column   Non-Null Count   Dtype \n",
            "---  ------   --------------   ----- \n",
            " 0   English  130474 non-null  object\n",
            " 1   Hindi    130164 non-null  object\n",
            "dtypes: object(2)\n",
            "memory usage: 2.0+ MB\n"
          ]
        }
      ],
      "execution_count": 9
    },
    {
      "cell_type": "markdown",
      "source": [
        "<a id='3.3'></a>\n",
        "#### 3.3. Checking if There's Any Duplicate Records."
      ],
      "metadata": {
        "execution": {
          "iopub.status.busy": "2024-07-07T14:17:27.248099Z",
          "iopub.execute_input": "2024-07-07T14:17:27.249131Z",
          "iopub.status.idle": "2024-07-07T14:17:27.255988Z",
          "shell.execute_reply.started": "2024-07-07T14:17:27.249087Z",
          "shell.execute_reply": "2024-07-07T14:17:27.254528Z"
        },
        "id": "W2SX2bWhYd9X"
      }
    },
    {
      "cell_type": "code",
      "source": [
        "print(\"Duplicates in Dataset: \",data.duplicated().sum())"
      ],
      "metadata": {
        "execution": {
          "iopub.status.busy": "2024-09-19T09:17:35.183669Z",
          "iopub.execute_input": "2024-09-19T09:17:35.184214Z",
          "iopub.status.idle": "2024-09-19T09:17:35.279512Z",
          "shell.execute_reply.started": "2024-09-19T09:17:35.184179Z",
          "shell.execute_reply": "2024-09-19T09:17:35.278585Z"
        },
        "trusted": true,
        "colab": {
          "base_uri": "https://localhost:8080/"
        },
        "id": "FY9J5widYd9Y",
        "outputId": "3d7408a4-eb4f-460f-fec3-27c1cd796b1f"
      },
      "outputs": [
        {
          "output_type": "stream",
          "name": "stdout",
          "text": [
            "Duplicates in Dataset:  2788\n"
          ]
        }
      ],
      "execution_count": 10
    },
    {
      "cell_type": "markdown",
      "source": [
        "<a id='3.4'></a>\n",
        "#### 3.4. Computing Total No. of Missing Values and the Percentage of Missing Values"
      ],
      "metadata": {
        "id": "EmKpvgv3Yd9Y"
      }
    },
    {
      "cell_type": "code",
      "source": [
        "missing_data = data.isnull().sum().to_frame().rename(columns={0:\"Total No. of Missing Values\"})\n",
        "missing_data[\"% of Missing Values\"] = round((missing_data[\"Total No. of Missing Values\"]/len(data))*100,2)\n",
        "missing_data"
      ],
      "metadata": {
        "execution": {
          "iopub.status.busy": "2024-09-19T09:17:35.280805Z",
          "iopub.execute_input": "2024-09-19T09:17:35.281159Z",
          "iopub.status.idle": "2024-09-19T09:17:35.321891Z",
          "shell.execute_reply.started": "2024-09-19T09:17:35.281133Z",
          "shell.execute_reply": "2024-09-19T09:17:35.320939Z"
        },
        "trusted": true,
        "colab": {
          "base_uri": "https://localhost:8080/",
          "height": 125
        },
        "id": "wgyXNxmyYd9Y",
        "outputId": "cd45df9d-5490-404c-f991-89f74986168b"
      },
      "outputs": [
        {
          "output_type": "execute_result",
          "data": {
            "text/plain": [
              "         Total No. of Missing Values  % of Missing Values\n",
              "English                            2                 0.00\n",
              "Hindi                            312                 0.24"
            ],
            "text/html": [
              "\n",
              "  <div id=\"df-e561672c-8f4a-4e4a-a41a-d182c487ec44\" class=\"colab-df-container\">\n",
              "    <div>\n",
              "<style scoped>\n",
              "    .dataframe tbody tr th:only-of-type {\n",
              "        vertical-align: middle;\n",
              "    }\n",
              "\n",
              "    .dataframe tbody tr th {\n",
              "        vertical-align: top;\n",
              "    }\n",
              "\n",
              "    .dataframe thead th {\n",
              "        text-align: right;\n",
              "    }\n",
              "</style>\n",
              "<table border=\"1\" class=\"dataframe\">\n",
              "  <thead>\n",
              "    <tr style=\"text-align: right;\">\n",
              "      <th></th>\n",
              "      <th>Total No. of Missing Values</th>\n",
              "      <th>% of Missing Values</th>\n",
              "    </tr>\n",
              "  </thead>\n",
              "  <tbody>\n",
              "    <tr>\n",
              "      <th>English</th>\n",
              "      <td>2</td>\n",
              "      <td>0.00</td>\n",
              "    </tr>\n",
              "    <tr>\n",
              "      <th>Hindi</th>\n",
              "      <td>312</td>\n",
              "      <td>0.24</td>\n",
              "    </tr>\n",
              "  </tbody>\n",
              "</table>\n",
              "</div>\n",
              "    <div class=\"colab-df-buttons\">\n",
              "\n",
              "  <div class=\"colab-df-container\">\n",
              "    <button class=\"colab-df-convert\" onclick=\"convertToInteractive('df-e561672c-8f4a-4e4a-a41a-d182c487ec44')\"\n",
              "            title=\"Convert this dataframe to an interactive table.\"\n",
              "            style=\"display:none;\">\n",
              "\n",
              "  <svg xmlns=\"http://www.w3.org/2000/svg\" height=\"24px\" viewBox=\"0 -960 960 960\">\n",
              "    <path d=\"M120-120v-720h720v720H120Zm60-500h600v-160H180v160Zm220 220h160v-160H400v160Zm0 220h160v-160H400v160ZM180-400h160v-160H180v160Zm440 0h160v-160H620v160ZM180-180h160v-160H180v160Zm440 0h160v-160H620v160Z\"/>\n",
              "  </svg>\n",
              "    </button>\n",
              "\n",
              "  <style>\n",
              "    .colab-df-container {\n",
              "      display:flex;\n",
              "      gap: 12px;\n",
              "    }\n",
              "\n",
              "    .colab-df-convert {\n",
              "      background-color: #E8F0FE;\n",
              "      border: none;\n",
              "      border-radius: 50%;\n",
              "      cursor: pointer;\n",
              "      display: none;\n",
              "      fill: #1967D2;\n",
              "      height: 32px;\n",
              "      padding: 0 0 0 0;\n",
              "      width: 32px;\n",
              "    }\n",
              "\n",
              "    .colab-df-convert:hover {\n",
              "      background-color: #E2EBFA;\n",
              "      box-shadow: 0px 1px 2px rgba(60, 64, 67, 0.3), 0px 1px 3px 1px rgba(60, 64, 67, 0.15);\n",
              "      fill: #174EA6;\n",
              "    }\n",
              "\n",
              "    .colab-df-buttons div {\n",
              "      margin-bottom: 4px;\n",
              "    }\n",
              "\n",
              "    [theme=dark] .colab-df-convert {\n",
              "      background-color: #3B4455;\n",
              "      fill: #D2E3FC;\n",
              "    }\n",
              "\n",
              "    [theme=dark] .colab-df-convert:hover {\n",
              "      background-color: #434B5C;\n",
              "      box-shadow: 0px 1px 3px 1px rgba(0, 0, 0, 0.15);\n",
              "      filter: drop-shadow(0px 1px 2px rgba(0, 0, 0, 0.3));\n",
              "      fill: #FFFFFF;\n",
              "    }\n",
              "  </style>\n",
              "\n",
              "    <script>\n",
              "      const buttonEl =\n",
              "        document.querySelector('#df-e561672c-8f4a-4e4a-a41a-d182c487ec44 button.colab-df-convert');\n",
              "      buttonEl.style.display =\n",
              "        google.colab.kernel.accessAllowed ? 'block' : 'none';\n",
              "\n",
              "      async function convertToInteractive(key) {\n",
              "        const element = document.querySelector('#df-e561672c-8f4a-4e4a-a41a-d182c487ec44');\n",
              "        const dataTable =\n",
              "          await google.colab.kernel.invokeFunction('convertToInteractive',\n",
              "                                                    [key], {});\n",
              "        if (!dataTable) return;\n",
              "\n",
              "        const docLinkHtml = 'Like what you see? Visit the ' +\n",
              "          '<a target=\"_blank\" href=https://colab.research.google.com/notebooks/data_table.ipynb>data table notebook</a>'\n",
              "          + ' to learn more about interactive tables.';\n",
              "        element.innerHTML = '';\n",
              "        dataTable['output_type'] = 'display_data';\n",
              "        await google.colab.output.renderOutput(dataTable, element);\n",
              "        const docLink = document.createElement('div');\n",
              "        docLink.innerHTML = docLinkHtml;\n",
              "        element.appendChild(docLink);\n",
              "      }\n",
              "    </script>\n",
              "  </div>\n",
              "\n",
              "\n",
              "<div id=\"df-7ee0cd11-2176-48e0-82d3-38eac8b6ca2c\">\n",
              "  <button class=\"colab-df-quickchart\" onclick=\"quickchart('df-7ee0cd11-2176-48e0-82d3-38eac8b6ca2c')\"\n",
              "            title=\"Suggest charts\"\n",
              "            style=\"display:none;\">\n",
              "\n",
              "<svg xmlns=\"http://www.w3.org/2000/svg\" height=\"24px\"viewBox=\"0 0 24 24\"\n",
              "     width=\"24px\">\n",
              "    <g>\n",
              "        <path d=\"M19 3H5c-1.1 0-2 .9-2 2v14c0 1.1.9 2 2 2h14c1.1 0 2-.9 2-2V5c0-1.1-.9-2-2-2zM9 17H7v-7h2v7zm4 0h-2V7h2v10zm4 0h-2v-4h2v4z\"/>\n",
              "    </g>\n",
              "</svg>\n",
              "  </button>\n",
              "\n",
              "<style>\n",
              "  .colab-df-quickchart {\n",
              "      --bg-color: #E8F0FE;\n",
              "      --fill-color: #1967D2;\n",
              "      --hover-bg-color: #E2EBFA;\n",
              "      --hover-fill-color: #174EA6;\n",
              "      --disabled-fill-color: #AAA;\n",
              "      --disabled-bg-color: #DDD;\n",
              "  }\n",
              "\n",
              "  [theme=dark] .colab-df-quickchart {\n",
              "      --bg-color: #3B4455;\n",
              "      --fill-color: #D2E3FC;\n",
              "      --hover-bg-color: #434B5C;\n",
              "      --hover-fill-color: #FFFFFF;\n",
              "      --disabled-bg-color: #3B4455;\n",
              "      --disabled-fill-color: #666;\n",
              "  }\n",
              "\n",
              "  .colab-df-quickchart {\n",
              "    background-color: var(--bg-color);\n",
              "    border: none;\n",
              "    border-radius: 50%;\n",
              "    cursor: pointer;\n",
              "    display: none;\n",
              "    fill: var(--fill-color);\n",
              "    height: 32px;\n",
              "    padding: 0;\n",
              "    width: 32px;\n",
              "  }\n",
              "\n",
              "  .colab-df-quickchart:hover {\n",
              "    background-color: var(--hover-bg-color);\n",
              "    box-shadow: 0 1px 2px rgba(60, 64, 67, 0.3), 0 1px 3px 1px rgba(60, 64, 67, 0.15);\n",
              "    fill: var(--button-hover-fill-color);\n",
              "  }\n",
              "\n",
              "  .colab-df-quickchart-complete:disabled,\n",
              "  .colab-df-quickchart-complete:disabled:hover {\n",
              "    background-color: var(--disabled-bg-color);\n",
              "    fill: var(--disabled-fill-color);\n",
              "    box-shadow: none;\n",
              "  }\n",
              "\n",
              "  .colab-df-spinner {\n",
              "    border: 2px solid var(--fill-color);\n",
              "    border-color: transparent;\n",
              "    border-bottom-color: var(--fill-color);\n",
              "    animation:\n",
              "      spin 1s steps(1) infinite;\n",
              "  }\n",
              "\n",
              "  @keyframes spin {\n",
              "    0% {\n",
              "      border-color: transparent;\n",
              "      border-bottom-color: var(--fill-color);\n",
              "      border-left-color: var(--fill-color);\n",
              "    }\n",
              "    20% {\n",
              "      border-color: transparent;\n",
              "      border-left-color: var(--fill-color);\n",
              "      border-top-color: var(--fill-color);\n",
              "    }\n",
              "    30% {\n",
              "      border-color: transparent;\n",
              "      border-left-color: var(--fill-color);\n",
              "      border-top-color: var(--fill-color);\n",
              "      border-right-color: var(--fill-color);\n",
              "    }\n",
              "    40% {\n",
              "      border-color: transparent;\n",
              "      border-right-color: var(--fill-color);\n",
              "      border-top-color: var(--fill-color);\n",
              "    }\n",
              "    60% {\n",
              "      border-color: transparent;\n",
              "      border-right-color: var(--fill-color);\n",
              "    }\n",
              "    80% {\n",
              "      border-color: transparent;\n",
              "      border-right-color: var(--fill-color);\n",
              "      border-bottom-color: var(--fill-color);\n",
              "    }\n",
              "    90% {\n",
              "      border-color: transparent;\n",
              "      border-bottom-color: var(--fill-color);\n",
              "    }\n",
              "  }\n",
              "</style>\n",
              "\n",
              "  <script>\n",
              "    async function quickchart(key) {\n",
              "      const quickchartButtonEl =\n",
              "        document.querySelector('#' + key + ' button');\n",
              "      quickchartButtonEl.disabled = true;  // To prevent multiple clicks.\n",
              "      quickchartButtonEl.classList.add('colab-df-spinner');\n",
              "      try {\n",
              "        const charts = await google.colab.kernel.invokeFunction(\n",
              "            'suggestCharts', [key], {});\n",
              "      } catch (error) {\n",
              "        console.error('Error during call to suggestCharts:', error);\n",
              "      }\n",
              "      quickchartButtonEl.classList.remove('colab-df-spinner');\n",
              "      quickchartButtonEl.classList.add('colab-df-quickchart-complete');\n",
              "    }\n",
              "    (() => {\n",
              "      let quickchartButtonEl =\n",
              "        document.querySelector('#df-7ee0cd11-2176-48e0-82d3-38eac8b6ca2c button');\n",
              "      quickchartButtonEl.style.display =\n",
              "        google.colab.kernel.accessAllowed ? 'block' : 'none';\n",
              "    })();\n",
              "  </script>\n",
              "</div>\n",
              "\n",
              "  <div id=\"id_75fe0fa4-5687-46a4-8b5d-fe20950a059d\">\n",
              "    <style>\n",
              "      .colab-df-generate {\n",
              "        background-color: #E8F0FE;\n",
              "        border: none;\n",
              "        border-radius: 50%;\n",
              "        cursor: pointer;\n",
              "        display: none;\n",
              "        fill: #1967D2;\n",
              "        height: 32px;\n",
              "        padding: 0 0 0 0;\n",
              "        width: 32px;\n",
              "      }\n",
              "\n",
              "      .colab-df-generate:hover {\n",
              "        background-color: #E2EBFA;\n",
              "        box-shadow: 0px 1px 2px rgba(60, 64, 67, 0.3), 0px 1px 3px 1px rgba(60, 64, 67, 0.15);\n",
              "        fill: #174EA6;\n",
              "      }\n",
              "\n",
              "      [theme=dark] .colab-df-generate {\n",
              "        background-color: #3B4455;\n",
              "        fill: #D2E3FC;\n",
              "      }\n",
              "\n",
              "      [theme=dark] .colab-df-generate:hover {\n",
              "        background-color: #434B5C;\n",
              "        box-shadow: 0px 1px 3px 1px rgba(0, 0, 0, 0.15);\n",
              "        filter: drop-shadow(0px 1px 2px rgba(0, 0, 0, 0.3));\n",
              "        fill: #FFFFFF;\n",
              "      }\n",
              "    </style>\n",
              "    <button class=\"colab-df-generate\" onclick=\"generateWithVariable('missing_data')\"\n",
              "            title=\"Generate code using this dataframe.\"\n",
              "            style=\"display:none;\">\n",
              "\n",
              "  <svg xmlns=\"http://www.w3.org/2000/svg\" height=\"24px\"viewBox=\"0 0 24 24\"\n",
              "       width=\"24px\">\n",
              "    <path d=\"M7,19H8.4L18.45,9,17,7.55,7,17.6ZM5,21V16.75L18.45,3.32a2,2,0,0,1,2.83,0l1.4,1.43a1.91,1.91,0,0,1,.58,1.4,1.91,1.91,0,0,1-.58,1.4L9.25,21ZM18.45,9,17,7.55Zm-12,3A5.31,5.31,0,0,0,4.9,8.1,5.31,5.31,0,0,0,1,6.5,5.31,5.31,0,0,0,4.9,4.9,5.31,5.31,0,0,0,6.5,1,5.31,5.31,0,0,0,8.1,4.9,5.31,5.31,0,0,0,12,6.5,5.46,5.46,0,0,0,6.5,12Z\"/>\n",
              "  </svg>\n",
              "    </button>\n",
              "    <script>\n",
              "      (() => {\n",
              "      const buttonEl =\n",
              "        document.querySelector('#id_75fe0fa4-5687-46a4-8b5d-fe20950a059d button.colab-df-generate');\n",
              "      buttonEl.style.display =\n",
              "        google.colab.kernel.accessAllowed ? 'block' : 'none';\n",
              "\n",
              "      buttonEl.onclick = () => {\n",
              "        google.colab.notebook.generateWithVariable('missing_data');\n",
              "      }\n",
              "      })();\n",
              "    </script>\n",
              "  </div>\n",
              "\n",
              "    </div>\n",
              "  </div>\n"
            ],
            "application/vnd.google.colaboratory.intrinsic+json": {
              "type": "dataframe",
              "variable_name": "missing_data",
              "summary": "{\n  \"name\": \"missing_data\",\n  \"rows\": 2,\n  \"fields\": [\n    {\n      \"column\": \"Total No. of Missing Values\",\n      \"properties\": {\n        \"dtype\": \"number\",\n        \"std\": 219,\n        \"min\": 2,\n        \"max\": 312,\n        \"num_unique_values\": 2,\n        \"samples\": [\n          312,\n          2\n        ],\n        \"semantic_type\": \"\",\n        \"description\": \"\"\n      }\n    },\n    {\n      \"column\": \"% of Missing Values\",\n      \"properties\": {\n        \"dtype\": \"number\",\n        \"std\": 0.16970562748477142,\n        \"min\": 0.0,\n        \"max\": 0.24,\n        \"num_unique_values\": 2,\n        \"samples\": [\n          0.24,\n          0.0\n        ],\n        \"semantic_type\": \"\",\n        \"description\": \"\"\n      }\n    }\n  ]\n}"
            }
          },
          "metadata": {},
          "execution_count": 11
        }
      ],
      "execution_count": 11
    },
    {
      "cell_type": "markdown",
      "source": [
        "<div style=\"border-radius:10px; border:#808080 dashed; padding: 15px; background-color: ##F0E68C ; font-size:100%; text-align:left\">\n",
        "\n",
        "<h3 align=\"left\"><font color=brown> 🔍 Inference:</font></h3>\n",
        "\n",
        "* Some of the Attribute are having Missing Values.  "
      ],
      "metadata": {
        "id": "Yr-wvCSSYd9Z"
      }
    },
    {
      "cell_type": "markdown",
      "source": [
        "<a id='3.5'></a>\n",
        "#### 3.5. Performing Descriptive Analysis"
      ],
      "metadata": {
        "id": "scKOP_MbYd9Z"
      }
    },
    {
      "cell_type": "code",
      "source": [
        "round(data.describe().T,2)"
      ],
      "metadata": {
        "execution": {
          "iopub.status.busy": "2024-09-19T09:17:35.323315Z",
          "iopub.execute_input": "2024-09-19T09:17:35.323642Z",
          "iopub.status.idle": "2024-09-19T09:17:35.515213Z",
          "shell.execute_reply.started": "2024-09-19T09:17:35.323617Z",
          "shell.execute_reply": "2024-09-19T09:17:35.514303Z"
        },
        "trusted": true,
        "colab": {
          "base_uri": "https://localhost:8080/",
          "height": 112
        },
        "id": "EgtOiTJmYd9a",
        "outputId": "b226e683-1def-463a-b333-818cc5fe0a57"
      },
      "outputs": [
        {
          "output_type": "execute_result",
          "data": {
            "text/plain": [
              "          count  unique         top freq\n",
              "English  130474  126959  (Laughter)  555\n",
              "Hindi    130164  100228      (हँसी)  212"
            ],
            "text/html": [
              "\n",
              "  <div id=\"df-ce8e2232-cec5-4c97-a5ec-7e0e6f2c00ad\" class=\"colab-df-container\">\n",
              "    <div>\n",
              "<style scoped>\n",
              "    .dataframe tbody tr th:only-of-type {\n",
              "        vertical-align: middle;\n",
              "    }\n",
              "\n",
              "    .dataframe tbody tr th {\n",
              "        vertical-align: top;\n",
              "    }\n",
              "\n",
              "    .dataframe thead th {\n",
              "        text-align: right;\n",
              "    }\n",
              "</style>\n",
              "<table border=\"1\" class=\"dataframe\">\n",
              "  <thead>\n",
              "    <tr style=\"text-align: right;\">\n",
              "      <th></th>\n",
              "      <th>count</th>\n",
              "      <th>unique</th>\n",
              "      <th>top</th>\n",
              "      <th>freq</th>\n",
              "    </tr>\n",
              "  </thead>\n",
              "  <tbody>\n",
              "    <tr>\n",
              "      <th>English</th>\n",
              "      <td>130474</td>\n",
              "      <td>126959</td>\n",
              "      <td>(Laughter)</td>\n",
              "      <td>555</td>\n",
              "    </tr>\n",
              "    <tr>\n",
              "      <th>Hindi</th>\n",
              "      <td>130164</td>\n",
              "      <td>100228</td>\n",
              "      <td>(हँसी)</td>\n",
              "      <td>212</td>\n",
              "    </tr>\n",
              "  </tbody>\n",
              "</table>\n",
              "</div>\n",
              "    <div class=\"colab-df-buttons\">\n",
              "\n",
              "  <div class=\"colab-df-container\">\n",
              "    <button class=\"colab-df-convert\" onclick=\"convertToInteractive('df-ce8e2232-cec5-4c97-a5ec-7e0e6f2c00ad')\"\n",
              "            title=\"Convert this dataframe to an interactive table.\"\n",
              "            style=\"display:none;\">\n",
              "\n",
              "  <svg xmlns=\"http://www.w3.org/2000/svg\" height=\"24px\" viewBox=\"0 -960 960 960\">\n",
              "    <path d=\"M120-120v-720h720v720H120Zm60-500h600v-160H180v160Zm220 220h160v-160H400v160Zm0 220h160v-160H400v160ZM180-400h160v-160H180v160Zm440 0h160v-160H620v160ZM180-180h160v-160H180v160Zm440 0h160v-160H620v160Z\"/>\n",
              "  </svg>\n",
              "    </button>\n",
              "\n",
              "  <style>\n",
              "    .colab-df-container {\n",
              "      display:flex;\n",
              "      gap: 12px;\n",
              "    }\n",
              "\n",
              "    .colab-df-convert {\n",
              "      background-color: #E8F0FE;\n",
              "      border: none;\n",
              "      border-radius: 50%;\n",
              "      cursor: pointer;\n",
              "      display: none;\n",
              "      fill: #1967D2;\n",
              "      height: 32px;\n",
              "      padding: 0 0 0 0;\n",
              "      width: 32px;\n",
              "    }\n",
              "\n",
              "    .colab-df-convert:hover {\n",
              "      background-color: #E2EBFA;\n",
              "      box-shadow: 0px 1px 2px rgba(60, 64, 67, 0.3), 0px 1px 3px 1px rgba(60, 64, 67, 0.15);\n",
              "      fill: #174EA6;\n",
              "    }\n",
              "\n",
              "    .colab-df-buttons div {\n",
              "      margin-bottom: 4px;\n",
              "    }\n",
              "\n",
              "    [theme=dark] .colab-df-convert {\n",
              "      background-color: #3B4455;\n",
              "      fill: #D2E3FC;\n",
              "    }\n",
              "\n",
              "    [theme=dark] .colab-df-convert:hover {\n",
              "      background-color: #434B5C;\n",
              "      box-shadow: 0px 1px 3px 1px rgba(0, 0, 0, 0.15);\n",
              "      filter: drop-shadow(0px 1px 2px rgba(0, 0, 0, 0.3));\n",
              "      fill: #FFFFFF;\n",
              "    }\n",
              "  </style>\n",
              "\n",
              "    <script>\n",
              "      const buttonEl =\n",
              "        document.querySelector('#df-ce8e2232-cec5-4c97-a5ec-7e0e6f2c00ad button.colab-df-convert');\n",
              "      buttonEl.style.display =\n",
              "        google.colab.kernel.accessAllowed ? 'block' : 'none';\n",
              "\n",
              "      async function convertToInteractive(key) {\n",
              "        const element = document.querySelector('#df-ce8e2232-cec5-4c97-a5ec-7e0e6f2c00ad');\n",
              "        const dataTable =\n",
              "          await google.colab.kernel.invokeFunction('convertToInteractive',\n",
              "                                                    [key], {});\n",
              "        if (!dataTable) return;\n",
              "\n",
              "        const docLinkHtml = 'Like what you see? Visit the ' +\n",
              "          '<a target=\"_blank\" href=https://colab.research.google.com/notebooks/data_table.ipynb>data table notebook</a>'\n",
              "          + ' to learn more about interactive tables.';\n",
              "        element.innerHTML = '';\n",
              "        dataTable['output_type'] = 'display_data';\n",
              "        await google.colab.output.renderOutput(dataTable, element);\n",
              "        const docLink = document.createElement('div');\n",
              "        docLink.innerHTML = docLinkHtml;\n",
              "        element.appendChild(docLink);\n",
              "      }\n",
              "    </script>\n",
              "  </div>\n",
              "\n",
              "\n",
              "<div id=\"df-49d4760f-26e7-4d86-823a-d842bcab21c5\">\n",
              "  <button class=\"colab-df-quickchart\" onclick=\"quickchart('df-49d4760f-26e7-4d86-823a-d842bcab21c5')\"\n",
              "            title=\"Suggest charts\"\n",
              "            style=\"display:none;\">\n",
              "\n",
              "<svg xmlns=\"http://www.w3.org/2000/svg\" height=\"24px\"viewBox=\"0 0 24 24\"\n",
              "     width=\"24px\">\n",
              "    <g>\n",
              "        <path d=\"M19 3H5c-1.1 0-2 .9-2 2v14c0 1.1.9 2 2 2h14c1.1 0 2-.9 2-2V5c0-1.1-.9-2-2-2zM9 17H7v-7h2v7zm4 0h-2V7h2v10zm4 0h-2v-4h2v4z\"/>\n",
              "    </g>\n",
              "</svg>\n",
              "  </button>\n",
              "\n",
              "<style>\n",
              "  .colab-df-quickchart {\n",
              "      --bg-color: #E8F0FE;\n",
              "      --fill-color: #1967D2;\n",
              "      --hover-bg-color: #E2EBFA;\n",
              "      --hover-fill-color: #174EA6;\n",
              "      --disabled-fill-color: #AAA;\n",
              "      --disabled-bg-color: #DDD;\n",
              "  }\n",
              "\n",
              "  [theme=dark] .colab-df-quickchart {\n",
              "      --bg-color: #3B4455;\n",
              "      --fill-color: #D2E3FC;\n",
              "      --hover-bg-color: #434B5C;\n",
              "      --hover-fill-color: #FFFFFF;\n",
              "      --disabled-bg-color: #3B4455;\n",
              "      --disabled-fill-color: #666;\n",
              "  }\n",
              "\n",
              "  .colab-df-quickchart {\n",
              "    background-color: var(--bg-color);\n",
              "    border: none;\n",
              "    border-radius: 50%;\n",
              "    cursor: pointer;\n",
              "    display: none;\n",
              "    fill: var(--fill-color);\n",
              "    height: 32px;\n",
              "    padding: 0;\n",
              "    width: 32px;\n",
              "  }\n",
              "\n",
              "  .colab-df-quickchart:hover {\n",
              "    background-color: var(--hover-bg-color);\n",
              "    box-shadow: 0 1px 2px rgba(60, 64, 67, 0.3), 0 1px 3px 1px rgba(60, 64, 67, 0.15);\n",
              "    fill: var(--button-hover-fill-color);\n",
              "  }\n",
              "\n",
              "  .colab-df-quickchart-complete:disabled,\n",
              "  .colab-df-quickchart-complete:disabled:hover {\n",
              "    background-color: var(--disabled-bg-color);\n",
              "    fill: var(--disabled-fill-color);\n",
              "    box-shadow: none;\n",
              "  }\n",
              "\n",
              "  .colab-df-spinner {\n",
              "    border: 2px solid var(--fill-color);\n",
              "    border-color: transparent;\n",
              "    border-bottom-color: var(--fill-color);\n",
              "    animation:\n",
              "      spin 1s steps(1) infinite;\n",
              "  }\n",
              "\n",
              "  @keyframes spin {\n",
              "    0% {\n",
              "      border-color: transparent;\n",
              "      border-bottom-color: var(--fill-color);\n",
              "      border-left-color: var(--fill-color);\n",
              "    }\n",
              "    20% {\n",
              "      border-color: transparent;\n",
              "      border-left-color: var(--fill-color);\n",
              "      border-top-color: var(--fill-color);\n",
              "    }\n",
              "    30% {\n",
              "      border-color: transparent;\n",
              "      border-left-color: var(--fill-color);\n",
              "      border-top-color: var(--fill-color);\n",
              "      border-right-color: var(--fill-color);\n",
              "    }\n",
              "    40% {\n",
              "      border-color: transparent;\n",
              "      border-right-color: var(--fill-color);\n",
              "      border-top-color: var(--fill-color);\n",
              "    }\n",
              "    60% {\n",
              "      border-color: transparent;\n",
              "      border-right-color: var(--fill-color);\n",
              "    }\n",
              "    80% {\n",
              "      border-color: transparent;\n",
              "      border-right-color: var(--fill-color);\n",
              "      border-bottom-color: var(--fill-color);\n",
              "    }\n",
              "    90% {\n",
              "      border-color: transparent;\n",
              "      border-bottom-color: var(--fill-color);\n",
              "    }\n",
              "  }\n",
              "</style>\n",
              "\n",
              "  <script>\n",
              "    async function quickchart(key) {\n",
              "      const quickchartButtonEl =\n",
              "        document.querySelector('#' + key + ' button');\n",
              "      quickchartButtonEl.disabled = true;  // To prevent multiple clicks.\n",
              "      quickchartButtonEl.classList.add('colab-df-spinner');\n",
              "      try {\n",
              "        const charts = await google.colab.kernel.invokeFunction(\n",
              "            'suggestCharts', [key], {});\n",
              "      } catch (error) {\n",
              "        console.error('Error during call to suggestCharts:', error);\n",
              "      }\n",
              "      quickchartButtonEl.classList.remove('colab-df-spinner');\n",
              "      quickchartButtonEl.classList.add('colab-df-quickchart-complete');\n",
              "    }\n",
              "    (() => {\n",
              "      let quickchartButtonEl =\n",
              "        document.querySelector('#df-49d4760f-26e7-4d86-823a-d842bcab21c5 button');\n",
              "      quickchartButtonEl.style.display =\n",
              "        google.colab.kernel.accessAllowed ? 'block' : 'none';\n",
              "    })();\n",
              "  </script>\n",
              "</div>\n",
              "\n",
              "    </div>\n",
              "  </div>\n"
            ],
            "application/vnd.google.colaboratory.intrinsic+json": {
              "type": "dataframe",
              "summary": "{\n  \"name\": \"round(data\",\n  \"rows\": 2,\n  \"fields\": [\n    {\n      \"column\": \"count\",\n      \"properties\": {\n        \"dtype\": \"date\",\n        \"min\": \"130164\",\n        \"max\": \"130474\",\n        \"num_unique_values\": 2,\n        \"samples\": [\n          \"130164\",\n          \"130474\"\n        ],\n        \"semantic_type\": \"\",\n        \"description\": \"\"\n      }\n    },\n    {\n      \"column\": \"unique\",\n      \"properties\": {\n        \"dtype\": \"date\",\n        \"min\": 100228,\n        \"max\": 126959,\n        \"num_unique_values\": 2,\n        \"samples\": [\n          100228,\n          126959\n        ],\n        \"semantic_type\": \"\",\n        \"description\": \"\"\n      }\n    },\n    {\n      \"column\": \"top\",\n      \"properties\": {\n        \"dtype\": \"string\",\n        \"num_unique_values\": 2,\n        \"samples\": [\n          \"(\\u0939\\u0901\\u0938\\u0940)\",\n          \"(Laughter)\"\n        ],\n        \"semantic_type\": \"\",\n        \"description\": \"\"\n      }\n    },\n    {\n      \"column\": \"freq\",\n      \"properties\": {\n        \"dtype\": \"date\",\n        \"min\": \"212\",\n        \"max\": \"555\",\n        \"num_unique_values\": 2,\n        \"samples\": [\n          \"212\",\n          \"555\"\n        ],\n        \"semantic_type\": \"\",\n        \"description\": \"\"\n      }\n    }\n  ]\n}"
            }
          },
          "metadata": {},
          "execution_count": 12
        }
      ],
      "execution_count": 12
    },
    {
      "cell_type": "markdown",
      "source": [
        "<center><div style='color:#ffffff;\n",
        "           display:inline-block;\n",
        "           padding: 5px 5px 5px 5px;\n",
        "           border-radius:5px;\n",
        "           background-color:#78D1E1;\n",
        "           font-size:100%;'><a href=#toc style='text-decoration: none; color:#03001C;'>⬆️ Back To Top</a></div></center>\n",
        "\n",
        "<a id='4'></a>\n",
        "# 4 | Preprocessing\n",
        "\n",
        "<div style=\"padding: 4px;color:white;margin:10;font-size:200%;text-align:center;display:fill;border-radius:10px;overflow:hidden;background-image: url(https://i.postimg.cc/fTDmwnkQ/Miaka.png); background-size: 100% auto;\"></div>\n"
      ],
      "metadata": {
        "id": "ncMXaq5BYd9b"
      }
    },
    {
      "cell_type": "markdown",
      "source": [
        "<a id='4.1'></a>\n",
        "### **1. Dropping Duplicates and Null Values**"
      ],
      "metadata": {
        "id": "oXA8fCBTYd9b"
      }
    },
    {
      "cell_type": "code",
      "source": [
        "data.drop_duplicates(inplace = True)"
      ],
      "metadata": {
        "execution": {
          "iopub.status.busy": "2024-09-19T09:17:35.516699Z",
          "iopub.execute_input": "2024-09-19T09:17:35.51712Z",
          "iopub.status.idle": "2024-09-19T09:17:35.59729Z",
          "shell.execute_reply.started": "2024-09-19T09:17:35.517084Z",
          "shell.execute_reply": "2024-09-19T09:17:35.596462Z"
        },
        "trusted": true,
        "id": "u1mX-eP9Yd9d"
      },
      "outputs": [],
      "execution_count": 13
    },
    {
      "cell_type": "code",
      "source": [
        "data.dropna(inplace = True)"
      ],
      "metadata": {
        "execution": {
          "iopub.status.busy": "2024-09-19T09:17:35.598374Z",
          "iopub.execute_input": "2024-09-19T09:17:35.598673Z",
          "iopub.status.idle": "2024-09-19T09:17:35.633728Z",
          "shell.execute_reply.started": "2024-09-19T09:17:35.598647Z",
          "shell.execute_reply": "2024-09-19T09:17:35.632889Z"
        },
        "trusted": true,
        "id": "a-THTWi8Yd9f"
      },
      "outputs": [],
      "execution_count": 14
    },
    {
      "cell_type": "markdown",
      "source": [
        "<a id='4.2'></a>\n",
        "### **2. Lowercasing**"
      ],
      "metadata": {
        "id": "OIbAOXjgYd9g"
      }
    },
    {
      "cell_type": "code",
      "source": [
        "data['English'] = data['English'].str.lower()"
      ],
      "metadata": {
        "execution": {
          "iopub.status.busy": "2024-09-19T09:17:35.635469Z",
          "iopub.execute_input": "2024-09-19T09:17:35.635743Z",
          "iopub.status.idle": "2024-09-19T09:17:35.692881Z",
          "shell.execute_reply.started": "2024-09-19T09:17:35.635719Z",
          "shell.execute_reply": "2024-09-19T09:17:35.692108Z"
        },
        "trusted": true,
        "id": "RcT3WrmrYd9g"
      },
      "outputs": [],
      "execution_count": 15
    },
    {
      "cell_type": "markdown",
      "source": [
        "<a id='4.3'></a>\n",
        "### **3. Removing Html tags**"
      ],
      "metadata": {
        "execution": {
          "iopub.status.busy": "2024-07-07T14:29:08.534207Z",
          "iopub.execute_input": "2024-07-07T14:29:08.534756Z",
          "iopub.status.idle": "2024-07-07T14:29:08.54296Z",
          "shell.execute_reply.started": "2024-07-07T14:29:08.534718Z",
          "shell.execute_reply": "2024-07-07T14:29:08.540966Z"
        },
        "id": "ffe019SnYd9h"
      }
    },
    {
      "cell_type": "code",
      "source": [
        "import re\n",
        "def remove_html_tags(text):\n",
        "    pattern = r'[^a-zA-Z0-9\\s]'\n",
        "    text = re.sub(pattern,'',text)\n",
        "    return text"
      ],
      "metadata": {
        "execution": {
          "iopub.status.busy": "2024-09-19T09:17:35.698218Z",
          "iopub.execute_input": "2024-09-19T09:17:35.698561Z",
          "iopub.status.idle": "2024-09-19T09:17:35.703305Z",
          "shell.execute_reply.started": "2024-09-19T09:17:35.698535Z",
          "shell.execute_reply": "2024-09-19T09:17:35.702285Z"
        },
        "trusted": true,
        "id": "DNOHiqS5Yd9h"
      },
      "outputs": [],
      "execution_count": 16
    },
    {
      "cell_type": "code",
      "source": [
        "data['English'] = data['English'].apply(remove_html_tags)"
      ],
      "metadata": {
        "execution": {
          "iopub.status.busy": "2024-09-19T09:17:35.704458Z",
          "iopub.execute_input": "2024-09-19T09:17:35.704737Z",
          "iopub.status.idle": "2024-09-19T09:17:36.27112Z",
          "shell.execute_reply.started": "2024-09-19T09:17:35.704714Z",
          "shell.execute_reply": "2024-09-19T09:17:36.270122Z"
        },
        "trusted": true,
        "id": "oui5UtSuYd9i"
      },
      "outputs": [],
      "execution_count": 17
    },
    {
      "cell_type": "markdown",
      "source": [
        "<a id='4.4'></a>\n",
        "### **4.  Removing URLs**"
      ],
      "metadata": {
        "execution": {
          "iopub.status.busy": "2024-07-07T14:37:08.59277Z",
          "iopub.execute_input": "2024-07-07T14:37:08.593797Z",
          "iopub.status.idle": "2024-07-07T14:37:08.60227Z",
          "shell.execute_reply.started": "2024-07-07T14:37:08.593754Z",
          "shell.execute_reply": "2024-07-07T14:37:08.600439Z"
        },
        "id": "pdzSaccRYd9i"
      }
    },
    {
      "cell_type": "code",
      "source": [
        "def remove_url(text):\n",
        "    pattern = re.compile(r'https?://\\S+|www\\.\\S+')\n",
        "    return pattern.sub(r'',text)\n",
        "\n",
        "data['English'] = data['English'].apply(remove_url)\n",
        "data['Hindi'] = data['Hindi'].apply(remove_url)"
      ],
      "metadata": {
        "execution": {
          "iopub.status.busy": "2024-09-19T09:17:36.27226Z",
          "iopub.execute_input": "2024-09-19T09:17:36.272526Z",
          "iopub.status.idle": "2024-09-19T09:17:37.102419Z",
          "shell.execute_reply.started": "2024-09-19T09:17:36.272504Z",
          "shell.execute_reply": "2024-09-19T09:17:37.101438Z"
        },
        "trusted": true,
        "id": "Tg8512PEYd9j"
      },
      "outputs": [],
      "execution_count": 18
    },
    {
      "cell_type": "markdown",
      "source": [
        "<a id='4.6'></a>\n",
        "### **6. Removing Emojis**"
      ],
      "metadata": {
        "id": "BXN2TAPmYd90"
      }
    },
    {
      "cell_type": "code",
      "source": [
        "def remove_emoji(text):\n",
        "    emoji_pattern = re.compile(\"[\"\n",
        "                           u\"\\U0001F600-\\U0001F64F\"  # emoticons\n",
        "                           u\"\\U0001F300-\\U0001F5FF\"  # symbols & pictographs\n",
        "                           u\"\\U0001F680-\\U0001F6FF\"  # transport & map symbols\n",
        "                           u\"\\U0001F1E0-\\U0001F1FF\"  # flags (iOS)\n",
        "                           u\"\\U00002702-\\U000027B0\"\n",
        "                           u\"\\U000024C2-\\U0001F251\"\n",
        "                           \"]+\", flags=re.UNICODE)\n",
        "    return emoji_pattern.sub(r'', text)"
      ],
      "metadata": {
        "execution": {
          "iopub.status.busy": "2024-09-19T09:17:37.965453Z",
          "iopub.execute_input": "2024-09-19T09:17:37.96576Z",
          "iopub.status.idle": "2024-09-19T09:17:37.97171Z",
          "shell.execute_reply.started": "2024-09-19T09:17:37.965736Z",
          "shell.execute_reply": "2024-09-19T09:17:37.970873Z"
        },
        "trusted": true,
        "id": "DT4eyaZ-Yd90"
      },
      "outputs": [],
      "execution_count": 22
    },
    {
      "cell_type": "code",
      "source": [
        "data['English'] = data['English'].apply(remove_emoji)\n",
        "data['Hindi'] = data['Hindi'].apply(remove_emoji)"
      ],
      "metadata": {
        "execution": {
          "iopub.status.busy": "2024-09-19T09:17:37.973278Z",
          "iopub.execute_input": "2024-09-19T09:17:37.97365Z",
          "iopub.status.idle": "2024-09-19T09:17:39.792504Z",
          "shell.execute_reply.started": "2024-09-19T09:17:37.973618Z",
          "shell.execute_reply": "2024-09-19T09:17:39.791731Z"
        },
        "trusted": true,
        "id": "a8c3phX1Yd91"
      },
      "outputs": [],
      "execution_count": 23
    },
    {
      "cell_type": "markdown",
      "source": [
        "<a id='4.7'></a>\n",
        "### **7. Removing contraction**"
      ],
      "metadata": {
        "id": "6DYiNzinYd91"
      }
    },
    {
      "cell_type": "code",
      "source": [
        "def expand_contractions(text):\n",
        "    expanded_text = contractions.fix(text)\n",
        "    return expanded_text\n",
        "\n",
        "data['English'] = data['English'].apply(expand_contractions)"
      ],
      "metadata": {
        "execution": {
          "iopub.status.busy": "2024-09-19T09:17:39.793576Z",
          "iopub.execute_input": "2024-09-19T09:17:39.793884Z",
          "iopub.status.idle": "2024-09-19T09:17:41.272569Z",
          "shell.execute_reply.started": "2024-09-19T09:17:39.793857Z",
          "shell.execute_reply": "2024-09-19T09:17:41.271788Z"
        },
        "trusted": true,
        "id": "N9nCUdO1Yd91"
      },
      "outputs": [],
      "execution_count": 24
    },
    {
      "cell_type": "markdown",
      "source": [
        "<a id='4.8'></a>\n",
        "### **8. Remove Non-Hindi and Alphanumeric characters**"
      ],
      "metadata": {
        "id": "CNtRRIVhYd92"
      }
    },
    {
      "cell_type": "code",
      "source": [
        "def preprocess_text(text, language='english'):\n",
        "    if not isinstance(text, str):\n",
        "        return text\n",
        "\n",
        "    if language == 'english':\n",
        "        pattern = re.compile(r'[^a-zA-Z0-9\\s]')\n",
        "        return pattern.sub(r'', text)\n",
        "    elif language == 'hindi':\n",
        "        pattern = re.compile(r'[^\\u0900-\\u097F\\s]')\n",
        "        return pattern.sub(r'', text)\n",
        "    else:\n",
        "        raise ValueError(\"Unsupported Language, Supported languages are 'english' and 'hindi'\")\n",
        "\n",
        "data['English'] = data['English'].apply(lambda x: preprocess_text(x, language='english'))\n",
        "data['Hindi'] = data['Hindi'].apply(lambda x: preprocess_text(x, language='hindi'))"
      ],
      "metadata": {
        "execution": {
          "iopub.status.busy": "2024-09-19T09:17:41.27356Z",
          "iopub.execute_input": "2024-09-19T09:17:41.273852Z",
          "iopub.status.idle": "2024-09-19T09:17:42.377183Z",
          "shell.execute_reply.started": "2024-09-19T09:17:41.273813Z",
          "shell.execute_reply": "2024-09-19T09:17:42.376174Z"
        },
        "trusted": true,
        "id": "oM370zkfYd92"
      },
      "outputs": [],
      "execution_count": 25
    },
    {
      "cell_type": "code",
      "source": [
        "data.sample(5)"
      ],
      "metadata": {
        "execution": {
          "iopub.status.busy": "2024-09-19T09:17:42.378673Z",
          "iopub.execute_input": "2024-09-19T09:17:42.37901Z",
          "iopub.status.idle": "2024-09-19T09:17:42.393364Z",
          "shell.execute_reply.started": "2024-09-19T09:17:42.378985Z",
          "shell.execute_reply": "2024-09-19T09:17:42.392371Z"
        },
        "trusted": true,
        "colab": {
          "base_uri": "https://localhost:8080/",
          "height": 206
        },
        "id": "5YzlySTbYd92",
        "outputId": "479d0f7c-4a19-48ae-a65b-e3e359fb4953"
      },
      "outputs": [
        {
          "output_type": "execute_result",
          "data": {
            "text/plain": [
              "                                                 English  \\\n",
              "90701                                and this is because   \n",
              "95636  after suffering one crushing defeat he and ms ...   \n",
              "3397   the diet prescription for a diabetic has the f...   \n",
              "20818                                 where does it stop   \n",
              "59478  but its the shared narratives that make us a c...   \n",
              "\n",
              "                                                   Hindi  \n",
              "90701                                 और इसका कारण है कि  \n",
              "95636  एक मिट जाने वाली हार को भोगने के बाद  वह और उस...  \n",
              "3397   मधुमेह के रोगी को दिए जाने वाले आहार में निम्न...  \n",
              "20818                                  यह कहाँ खत्म होगा  \n",
              "59478        लेकिन सांझे विवरण हमारी संस्कृति बनाते हैं   "
            ],
            "text/html": [
              "\n",
              "  <div id=\"df-0e0a2bcb-3011-4fdc-b5d6-b5cb4ef5443b\" class=\"colab-df-container\">\n",
              "    <div>\n",
              "<style scoped>\n",
              "    .dataframe tbody tr th:only-of-type {\n",
              "        vertical-align: middle;\n",
              "    }\n",
              "\n",
              "    .dataframe tbody tr th {\n",
              "        vertical-align: top;\n",
              "    }\n",
              "\n",
              "    .dataframe thead th {\n",
              "        text-align: right;\n",
              "    }\n",
              "</style>\n",
              "<table border=\"1\" class=\"dataframe\">\n",
              "  <thead>\n",
              "    <tr style=\"text-align: right;\">\n",
              "      <th></th>\n",
              "      <th>English</th>\n",
              "      <th>Hindi</th>\n",
              "    </tr>\n",
              "  </thead>\n",
              "  <tbody>\n",
              "    <tr>\n",
              "      <th>90701</th>\n",
              "      <td>and this is because</td>\n",
              "      <td>और इसका कारण है कि</td>\n",
              "    </tr>\n",
              "    <tr>\n",
              "      <th>95636</th>\n",
              "      <td>after suffering one crushing defeat he and ms ...</td>\n",
              "      <td>एक मिट जाने वाली हार को भोगने के बाद  वह और उस...</td>\n",
              "    </tr>\n",
              "    <tr>\n",
              "      <th>3397</th>\n",
              "      <td>the diet prescription for a diabetic has the f...</td>\n",
              "      <td>मधुमेह के रोगी को दिए जाने वाले आहार में निम्न...</td>\n",
              "    </tr>\n",
              "    <tr>\n",
              "      <th>20818</th>\n",
              "      <td>where does it stop</td>\n",
              "      <td>यह कहाँ खत्म होगा</td>\n",
              "    </tr>\n",
              "    <tr>\n",
              "      <th>59478</th>\n",
              "      <td>but its the shared narratives that make us a c...</td>\n",
              "      <td>लेकिन सांझे विवरण हमारी संस्कृति बनाते हैं</td>\n",
              "    </tr>\n",
              "  </tbody>\n",
              "</table>\n",
              "</div>\n",
              "    <div class=\"colab-df-buttons\">\n",
              "\n",
              "  <div class=\"colab-df-container\">\n",
              "    <button class=\"colab-df-convert\" onclick=\"convertToInteractive('df-0e0a2bcb-3011-4fdc-b5d6-b5cb4ef5443b')\"\n",
              "            title=\"Convert this dataframe to an interactive table.\"\n",
              "            style=\"display:none;\">\n",
              "\n",
              "  <svg xmlns=\"http://www.w3.org/2000/svg\" height=\"24px\" viewBox=\"0 -960 960 960\">\n",
              "    <path d=\"M120-120v-720h720v720H120Zm60-500h600v-160H180v160Zm220 220h160v-160H400v160Zm0 220h160v-160H400v160ZM180-400h160v-160H180v160Zm440 0h160v-160H620v160ZM180-180h160v-160H180v160Zm440 0h160v-160H620v160Z\"/>\n",
              "  </svg>\n",
              "    </button>\n",
              "\n",
              "  <style>\n",
              "    .colab-df-container {\n",
              "      display:flex;\n",
              "      gap: 12px;\n",
              "    }\n",
              "\n",
              "    .colab-df-convert {\n",
              "      background-color: #E8F0FE;\n",
              "      border: none;\n",
              "      border-radius: 50%;\n",
              "      cursor: pointer;\n",
              "      display: none;\n",
              "      fill: #1967D2;\n",
              "      height: 32px;\n",
              "      padding: 0 0 0 0;\n",
              "      width: 32px;\n",
              "    }\n",
              "\n",
              "    .colab-df-convert:hover {\n",
              "      background-color: #E2EBFA;\n",
              "      box-shadow: 0px 1px 2px rgba(60, 64, 67, 0.3), 0px 1px 3px 1px rgba(60, 64, 67, 0.15);\n",
              "      fill: #174EA6;\n",
              "    }\n",
              "\n",
              "    .colab-df-buttons div {\n",
              "      margin-bottom: 4px;\n",
              "    }\n",
              "\n",
              "    [theme=dark] .colab-df-convert {\n",
              "      background-color: #3B4455;\n",
              "      fill: #D2E3FC;\n",
              "    }\n",
              "\n",
              "    [theme=dark] .colab-df-convert:hover {\n",
              "      background-color: #434B5C;\n",
              "      box-shadow: 0px 1px 3px 1px rgba(0, 0, 0, 0.15);\n",
              "      filter: drop-shadow(0px 1px 2px rgba(0, 0, 0, 0.3));\n",
              "      fill: #FFFFFF;\n",
              "    }\n",
              "  </style>\n",
              "\n",
              "    <script>\n",
              "      const buttonEl =\n",
              "        document.querySelector('#df-0e0a2bcb-3011-4fdc-b5d6-b5cb4ef5443b button.colab-df-convert');\n",
              "      buttonEl.style.display =\n",
              "        google.colab.kernel.accessAllowed ? 'block' : 'none';\n",
              "\n",
              "      async function convertToInteractive(key) {\n",
              "        const element = document.querySelector('#df-0e0a2bcb-3011-4fdc-b5d6-b5cb4ef5443b');\n",
              "        const dataTable =\n",
              "          await google.colab.kernel.invokeFunction('convertToInteractive',\n",
              "                                                    [key], {});\n",
              "        if (!dataTable) return;\n",
              "\n",
              "        const docLinkHtml = 'Like what you see? Visit the ' +\n",
              "          '<a target=\"_blank\" href=https://colab.research.google.com/notebooks/data_table.ipynb>data table notebook</a>'\n",
              "          + ' to learn more about interactive tables.';\n",
              "        element.innerHTML = '';\n",
              "        dataTable['output_type'] = 'display_data';\n",
              "        await google.colab.output.renderOutput(dataTable, element);\n",
              "        const docLink = document.createElement('div');\n",
              "        docLink.innerHTML = docLinkHtml;\n",
              "        element.appendChild(docLink);\n",
              "      }\n",
              "    </script>\n",
              "  </div>\n",
              "\n",
              "\n",
              "<div id=\"df-134408ec-2d9c-4d1c-93a2-c5f6f3b75819\">\n",
              "  <button class=\"colab-df-quickchart\" onclick=\"quickchart('df-134408ec-2d9c-4d1c-93a2-c5f6f3b75819')\"\n",
              "            title=\"Suggest charts\"\n",
              "            style=\"display:none;\">\n",
              "\n",
              "<svg xmlns=\"http://www.w3.org/2000/svg\" height=\"24px\"viewBox=\"0 0 24 24\"\n",
              "     width=\"24px\">\n",
              "    <g>\n",
              "        <path d=\"M19 3H5c-1.1 0-2 .9-2 2v14c0 1.1.9 2 2 2h14c1.1 0 2-.9 2-2V5c0-1.1-.9-2-2-2zM9 17H7v-7h2v7zm4 0h-2V7h2v10zm4 0h-2v-4h2v4z\"/>\n",
              "    </g>\n",
              "</svg>\n",
              "  </button>\n",
              "\n",
              "<style>\n",
              "  .colab-df-quickchart {\n",
              "      --bg-color: #E8F0FE;\n",
              "      --fill-color: #1967D2;\n",
              "      --hover-bg-color: #E2EBFA;\n",
              "      --hover-fill-color: #174EA6;\n",
              "      --disabled-fill-color: #AAA;\n",
              "      --disabled-bg-color: #DDD;\n",
              "  }\n",
              "\n",
              "  [theme=dark] .colab-df-quickchart {\n",
              "      --bg-color: #3B4455;\n",
              "      --fill-color: #D2E3FC;\n",
              "      --hover-bg-color: #434B5C;\n",
              "      --hover-fill-color: #FFFFFF;\n",
              "      --disabled-bg-color: #3B4455;\n",
              "      --disabled-fill-color: #666;\n",
              "  }\n",
              "\n",
              "  .colab-df-quickchart {\n",
              "    background-color: var(--bg-color);\n",
              "    border: none;\n",
              "    border-radius: 50%;\n",
              "    cursor: pointer;\n",
              "    display: none;\n",
              "    fill: var(--fill-color);\n",
              "    height: 32px;\n",
              "    padding: 0;\n",
              "    width: 32px;\n",
              "  }\n",
              "\n",
              "  .colab-df-quickchart:hover {\n",
              "    background-color: var(--hover-bg-color);\n",
              "    box-shadow: 0 1px 2px rgba(60, 64, 67, 0.3), 0 1px 3px 1px rgba(60, 64, 67, 0.15);\n",
              "    fill: var(--button-hover-fill-color);\n",
              "  }\n",
              "\n",
              "  .colab-df-quickchart-complete:disabled,\n",
              "  .colab-df-quickchart-complete:disabled:hover {\n",
              "    background-color: var(--disabled-bg-color);\n",
              "    fill: var(--disabled-fill-color);\n",
              "    box-shadow: none;\n",
              "  }\n",
              "\n",
              "  .colab-df-spinner {\n",
              "    border: 2px solid var(--fill-color);\n",
              "    border-color: transparent;\n",
              "    border-bottom-color: var(--fill-color);\n",
              "    animation:\n",
              "      spin 1s steps(1) infinite;\n",
              "  }\n",
              "\n",
              "  @keyframes spin {\n",
              "    0% {\n",
              "      border-color: transparent;\n",
              "      border-bottom-color: var(--fill-color);\n",
              "      border-left-color: var(--fill-color);\n",
              "    }\n",
              "    20% {\n",
              "      border-color: transparent;\n",
              "      border-left-color: var(--fill-color);\n",
              "      border-top-color: var(--fill-color);\n",
              "    }\n",
              "    30% {\n",
              "      border-color: transparent;\n",
              "      border-left-color: var(--fill-color);\n",
              "      border-top-color: var(--fill-color);\n",
              "      border-right-color: var(--fill-color);\n",
              "    }\n",
              "    40% {\n",
              "      border-color: transparent;\n",
              "      border-right-color: var(--fill-color);\n",
              "      border-top-color: var(--fill-color);\n",
              "    }\n",
              "    60% {\n",
              "      border-color: transparent;\n",
              "      border-right-color: var(--fill-color);\n",
              "    }\n",
              "    80% {\n",
              "      border-color: transparent;\n",
              "      border-right-color: var(--fill-color);\n",
              "      border-bottom-color: var(--fill-color);\n",
              "    }\n",
              "    90% {\n",
              "      border-color: transparent;\n",
              "      border-bottom-color: var(--fill-color);\n",
              "    }\n",
              "  }\n",
              "</style>\n",
              "\n",
              "  <script>\n",
              "    async function quickchart(key) {\n",
              "      const quickchartButtonEl =\n",
              "        document.querySelector('#' + key + ' button');\n",
              "      quickchartButtonEl.disabled = true;  // To prevent multiple clicks.\n",
              "      quickchartButtonEl.classList.add('colab-df-spinner');\n",
              "      try {\n",
              "        const charts = await google.colab.kernel.invokeFunction(\n",
              "            'suggestCharts', [key], {});\n",
              "      } catch (error) {\n",
              "        console.error('Error during call to suggestCharts:', error);\n",
              "      }\n",
              "      quickchartButtonEl.classList.remove('colab-df-spinner');\n",
              "      quickchartButtonEl.classList.add('colab-df-quickchart-complete');\n",
              "    }\n",
              "    (() => {\n",
              "      let quickchartButtonEl =\n",
              "        document.querySelector('#df-134408ec-2d9c-4d1c-93a2-c5f6f3b75819 button');\n",
              "      quickchartButtonEl.style.display =\n",
              "        google.colab.kernel.accessAllowed ? 'block' : 'none';\n",
              "    })();\n",
              "  </script>\n",
              "</div>\n",
              "\n",
              "    </div>\n",
              "  </div>\n"
            ],
            "application/vnd.google.colaboratory.intrinsic+json": {
              "type": "dataframe",
              "summary": "{\n  \"name\": \"data\",\n  \"rows\": 5,\n  \"fields\": [\n    {\n      \"column\": \"English\",\n      \"properties\": {\n        \"dtype\": \"string\",\n        \"num_unique_values\": 5,\n        \"samples\": [\n          \"after suffering one crushing defeat he and ms general qutubuddin aibak exploited the dissensions among the rajput princes and succeeded in conquering a considerable part of northern india\",\n          \"but its the shared narratives that make us a culture\",\n          \"the diet prescription for a diabetic has the following com ponents\"\n        ],\n        \"semantic_type\": \"\",\n        \"description\": \"\"\n      }\n    },\n    {\n      \"column\": \"Hindi\",\n      \"properties\": {\n        \"dtype\": \"string\",\n        \"num_unique_values\": 5,\n        \"samples\": [\n          \"\\u090f\\u0915 \\u092e\\u093f\\u091f \\u091c\\u093e\\u0928\\u0947 \\u0935\\u093e\\u0932\\u0940 \\u0939\\u093e\\u0930 \\u0915\\u094b \\u092d\\u094b\\u0917\\u0928\\u0947 \\u0915\\u0947 \\u092c\\u093e\\u0926  \\u0935\\u0939 \\u0914\\u0930 \\u0909\\u0938\\u0915\\u0947 \\u0928\\u093e\\u092f\\u0915 \\u0915\\u0941\\u0924\\u0941\\u092c\\u0941\\u0926\\u094d\\u0926\\u0940\\u0928 \\u0910\\u092c\\u0915 \\u0928 \\u0930\\u093e\\u091c\\u092a\\u0942\\u0924 \\u0928\\u0930\\u0947\\u0936\\u094b\\u0902 \\u0915\\u0947 \\u0906\\u092a\\u0938 \\u092e\\u0947\\u0902 \\u092e\\u0924\\u092d\\u0947\\u0926\\u094b\\u0902 \\u0915\\u093e \\u0932\\u093e\\u092d \\u0909\\u0920\\u093e\\u092f\\u093e \\u0914\\u0930 \\u0909\\u0924\\u094d\\u0924\\u0930 \\u092d\\u093e\\u0930\\u0924 \\u0915\\u093e \\u092c\\u0939\\u0941\\u0924 \\u092c\\u0921\\u093c\\u093e \\u0939\\u093f\\u0938\\u094d\\u0938 \\u091c\\u0940\\u0924\\u0928\\u0947 \\u092e\\u0947\\u0902 \\u0938\\u092b\\u0932 \\u0939\\u0941\\u090f \",\n          \"\\u0932\\u0947\\u0915\\u093f\\u0928 \\u0938\\u093e\\u0902\\u091d\\u0947 \\u0935\\u093f\\u0935\\u0930\\u0923 \\u0939\\u092e\\u093e\\u0930\\u0940 \\u0938\\u0902\\u0938\\u094d\\u0915\\u0943\\u0924\\u093f \\u092c\\u0928\\u093e\\u0924\\u0947 \\u0939\\u0948\\u0902 \",\n          \"\\u092e\\u0927\\u0941\\u092e\\u0947\\u0939 \\u0915\\u0947 \\u0930\\u094b\\u0917\\u0940 \\u0915\\u094b \\u0926\\u093f\\u090f \\u091c\\u093e\\u0928\\u0947 \\u0935\\u093e\\u0932\\u0947 \\u0906\\u0939\\u093e\\u0930 \\u092e\\u0947\\u0902 \\u0928\\u093f\\u092e\\u094d\\u0928\\u0932\\u093f\\u0916\\u093f\\u0924 \\u0918\\u091f\\u0915 \\u0939\\u094b\\u0928\\u0947 \\u091a\\u093e\\u0939\\u093f\\u090f \"\n        ],\n        \"semantic_type\": \"\",\n        \"description\": \"\"\n      }\n    }\n  ]\n}"
            }
          },
          "metadata": {},
          "execution_count": 26
        }
      ],
      "execution_count": 26
    },
    {
      "cell_type": "markdown",
      "source": [
        "<a id='4.9'></a>\n",
        "### **9. WordCloud**"
      ],
      "metadata": {
        "id": "yeNqNE6gYd92"
      }
    },
    {
      "cell_type": "code",
      "source": [
        "# Function to preprocess text and generate word cloud\n",
        "def generate_wordcloud(text_list, language):\n",
        "    # Join the list of words into a single string\n",
        "    text_str = ' '.join(map(str, text_list))\n",
        "\n",
        "    # Generate word cloud without specifying font path\n",
        "    wordcloud = WordCloud(width=800, height=400, background_color='white', colormap='viridis').generate(text_str)\n",
        "\n",
        "    # Display word cloud\n",
        "    plt.figure(figsize=(10, 5))\n",
        "    plt.imshow(wordcloud, interpolation='bilinear')\n",
        "    plt.title(f\"Word Cloud for {language} Text\")\n",
        "    plt.axis('off')\n",
        "    plt.show()"
      ],
      "metadata": {
        "execution": {
          "iopub.status.busy": "2024-09-19T09:17:42.394432Z",
          "iopub.execute_input": "2024-09-19T09:17:42.394705Z",
          "iopub.status.idle": "2024-09-19T09:17:42.404004Z",
          "shell.execute_reply.started": "2024-09-19T09:17:42.394681Z",
          "shell.execute_reply": "2024-09-19T09:17:42.403198Z"
        },
        "trusted": true,
        "id": "AFlIbDThYd93"
      },
      "outputs": [],
      "execution_count": 27
    },
    {
      "cell_type": "code",
      "source": [
        "# Generate word clouds for English and Hindi columns\n",
        "generate_wordcloud(data['English'], 'english')"
      ],
      "metadata": {
        "execution": {
          "iopub.status.busy": "2024-09-19T09:17:42.405118Z",
          "iopub.execute_input": "2024-09-19T09:17:42.405411Z",
          "iopub.status.idle": "2024-09-19T09:17:51.805634Z",
          "shell.execute_reply.started": "2024-09-19T09:17:42.405362Z",
          "shell.execute_reply": "2024-09-19T09:17:51.804689Z"
        },
        "trusted": true,
        "colab": {
          "base_uri": "https://localhost:8080/",
          "height": 448
        },
        "id": "KaLgOjGnYd94",
        "outputId": "8fbc59e7-fc52-4188-8bd2-380945a6c57d"
      },
      "outputs": [
        {
          "output_type": "display_data",
          "data": {
            "text/plain": [
              "<Figure size 1000x500 with 1 Axes>"
            ],
            "image/png": "[encoded data removed]"
          },
          "metadata": {}
        }
      ],
      "execution_count": 28
    },
    {
      "cell_type": "code",
      "source": [
        "data.shape"
      ],
      "metadata": {
        "execution": {
          "iopub.status.busy": "2024-09-19T09:17:51.806745Z",
          "iopub.execute_input": "2024-09-19T09:17:51.807055Z",
          "iopub.status.idle": "2024-09-19T09:17:51.813324Z",
          "shell.execute_reply.started": "2024-09-19T09:17:51.80703Z",
          "shell.execute_reply": "2024-09-19T09:17:51.812162Z"
        },
        "trusted": true,
        "colab": {
          "base_uri": "https://localhost:8080/"
        },
        "id": "8fw3XxaCYd94",
        "outputId": "f0f5b455-46ae-4b18-f8e8-06af25f49324"
      },
      "outputs": [
        {
          "output_type": "execute_result",
          "data": {
            "text/plain": [
              "(127375, 2)"
            ]
          },
          "metadata": {},
          "execution_count": 29
        }
      ],
      "execution_count": 29
    },
    {
      "cell_type": "code",
      "source": [
        "data = data[data['English'].str.len() <= 50]"
      ],
      "metadata": {
        "execution": {
          "iopub.status.busy": "2024-09-19T09:17:51.814501Z",
          "iopub.execute_input": "2024-09-19T09:17:51.814893Z",
          "iopub.status.idle": "2024-09-19T09:17:51.909998Z",
          "shell.execute_reply.started": "2024-09-19T09:17:51.814862Z",
          "shell.execute_reply": "2024-09-19T09:17:51.909045Z"
        },
        "trusted": true,
        "id": "bb0ZzN05Yd95"
      },
      "outputs": [],
      "execution_count": 30
    },
    {
      "cell_type": "code",
      "source": [
        "data.shape"
      ],
      "metadata": {
        "execution": {
          "iopub.status.busy": "2024-09-19T09:17:51.911119Z",
          "iopub.execute_input": "2024-09-19T09:17:51.911379Z",
          "iopub.status.idle": "2024-09-19T09:17:51.91701Z",
          "shell.execute_reply.started": "2024-09-19T09:17:51.911358Z",
          "shell.execute_reply": "2024-09-19T09:17:51.916078Z"
        },
        "trusted": true,
        "colab": {
          "base_uri": "https://localhost:8080/"
        },
        "id": "ASh4VZ_CYd96",
        "outputId": "6906cf46-ca70-426a-d490-cef5ca7da642"
      },
      "outputs": [
        {
          "output_type": "execute_result",
          "data": {
            "text/plain": [
              "(50157, 2)"
            ]
          },
          "metadata": {},
          "execution_count": 31
        }
      ],
      "execution_count": 31
    },
    {
      "cell_type": "code",
      "source": [
        "# Add <start> and <end> tokens to Hindi sentences\n",
        "data['Hindi'] = ['<start> ' + sentence + ' <end>' for sentence in data['Hindi']]"
      ],
      "metadata": {
        "execution": {
          "iopub.status.busy": "2024-09-19T09:17:51.918164Z",
          "iopub.execute_input": "2024-09-19T09:17:51.918429Z",
          "iopub.status.idle": "2024-09-19T09:17:51.955543Z",
          "shell.execute_reply.started": "2024-09-19T09:17:51.918406Z",
          "shell.execute_reply": "2024-09-19T09:17:51.954703Z"
        },
        "trusted": true,
        "id": "I2NFmz30Yd96"
      },
      "outputs": [],
      "execution_count": 32
    },
    {
      "cell_type": "markdown",
      "source": [
        "<a id='4.10'></a>\n",
        "### **10. Tokenize on the Data**"
      ],
      "metadata": {
        "id": "koXgSoznYd97"
      }
    },
    {
      "cell_type": "code",
      "source": [
        "tok = Tokenizer()\n",
        "tok.fit_on_texts(data['English'])"
      ],
      "metadata": {
        "execution": {
          "iopub.status.busy": "2024-09-19T09:17:51.956725Z",
          "iopub.execute_input": "2024-09-19T09:17:51.957183Z",
          "iopub.status.idle": "2024-09-19T09:17:52.681333Z",
          "shell.execute_reply.started": "2024-09-19T09:17:51.957156Z",
          "shell.execute_reply": "2024-09-19T09:17:52.680518Z"
        },
        "trusted": true,
        "id": "u21NAHgGYd97"
      },
      "outputs": [],
      "execution_count": 33
    },
    {
      "cell_type": "code",
      "source": [
        "tok_hindi = Tokenizer()\n",
        "tok_hindi.fit_on_texts(data['Hindi'])"
      ],
      "metadata": {
        "execution": {
          "iopub.status.busy": "2024-09-19T09:17:52.682533Z",
          "iopub.execute_input": "2024-09-19T09:17:52.683233Z",
          "iopub.status.idle": "2024-09-19T09:17:53.68501Z",
          "shell.execute_reply.started": "2024-09-19T09:17:52.683198Z",
          "shell.execute_reply": "2024-09-19T09:17:53.684Z"
        },
        "trusted": true,
        "id": "IJ-V_SCIYd97"
      },
      "outputs": [],
      "execution_count": 34
    },
    {
      "cell_type": "code",
      "source": [
        "len(tok.word_index),len(tok_hindi.word_index)"
      ],
      "metadata": {
        "execution": {
          "iopub.status.busy": "2024-09-19T09:17:53.686255Z",
          "iopub.execute_input": "2024-09-19T09:17:53.686615Z",
          "iopub.status.idle": "2024-09-19T09:17:53.693566Z",
          "shell.execute_reply.started": "2024-09-19T09:17:53.686582Z",
          "shell.execute_reply": "2024-09-19T09:17:53.692696Z"
        },
        "trusted": true,
        "colab": {
          "base_uri": "https://localhost:8080/"
        },
        "id": "G4I7m4pJYd98",
        "outputId": "479f4a38-bfc5-4122-ea7f-ca7309b3cd91"
      },
      "outputs": [
        {
          "output_type": "execute_result",
          "data": {
            "text/plain": [
              "(22870, 24779)"
            ]
          },
          "metadata": {},
          "execution_count": 35
        }
      ],
      "execution_count": 35
    },
    {
      "cell_type": "code",
      "source": [
        "len(tok.word_index),len(tok_hindi.word_index)"
      ],
      "metadata": {
        "execution": {
          "iopub.status.busy": "2024-09-19T09:17:53.694861Z",
          "iopub.execute_input": "2024-09-19T09:17:53.695277Z",
          "iopub.status.idle": "2024-09-19T09:17:53.705026Z",
          "shell.execute_reply.started": "2024-09-19T09:17:53.695246Z",
          "shell.execute_reply": "2024-09-19T09:17:53.704058Z"
        },
        "trusted": true,
        "colab": {
          "base_uri": "https://localhost:8080/"
        },
        "id": "6NeXiHStYd98",
        "outputId": "a9749d76-dab6-4fb2-cafe-c01de893876b"
      },
      "outputs": [
        {
          "output_type": "execute_result",
          "data": {
            "text/plain": [
              "(22870, 24779)"
            ]
          },
          "metadata": {},
          "execution_count": 36
        }
      ],
      "execution_count": 36
    },
    {
      "cell_type": "code",
      "source": [
        "tok.document_count"
      ],
      "metadata": {
        "execution": {
          "iopub.status.busy": "2024-09-19T09:17:53.706229Z",
          "iopub.execute_input": "2024-09-19T09:17:53.706791Z",
          "iopub.status.idle": "2024-09-19T09:17:53.715571Z",
          "shell.execute_reply.started": "2024-09-19T09:17:53.706767Z",
          "shell.execute_reply": "2024-09-19T09:17:53.714844Z"
        },
        "trusted": true,
        "colab": {
          "base_uri": "https://localhost:8080/"
        },
        "id": "RiNx0ERhYd9-",
        "outputId": "64d51769-ddb5-4a0a-926c-1dd9d54c3213"
      },
      "outputs": [
        {
          "output_type": "execute_result",
          "data": {
            "text/plain": [
              "50157"
            ]
          },
          "metadata": {},
          "execution_count": 37
        }
      ],
      "execution_count": 37
    },
    {
      "cell_type": "markdown",
      "source": [
        "#### **Converting data in numerical forms**"
      ],
      "metadata": {
        "id": "MDmnMKBsYd9-"
      }
    },
    {
      "cell_type": "code",
      "source": [
        "data['English'] = tok.texts_to_sequences(data['English'])\n",
        "data['Hindi'] = tok_hindi.texts_to_sequences(data['Hindi'])"
      ],
      "metadata": {
        "execution": {
          "iopub.status.busy": "2024-09-19T09:17:53.716619Z",
          "iopub.execute_input": "2024-09-19T09:17:53.717048Z",
          "iopub.status.idle": "2024-09-19T09:17:55.460346Z",
          "shell.execute_reply.started": "2024-09-19T09:17:53.717017Z",
          "shell.execute_reply": "2024-09-19T09:17:55.459499Z"
        },
        "trusted": true,
        "id": "VP0-bvNgYd9-"
      },
      "outputs": [],
      "execution_count": 38
    },
    {
      "cell_type": "code",
      "source": [
        "data"
      ],
      "metadata": {
        "execution": {
          "iopub.status.busy": "2024-09-19T09:17:55.461566Z",
          "iopub.execute_input": "2024-09-19T09:17:55.462224Z",
          "iopub.status.idle": "2024-09-19T09:17:55.481084Z",
          "shell.execute_reply.started": "2024-09-19T09:17:55.46219Z",
          "shell.execute_reply": "2024-09-19T09:17:55.48015Z"
        },
        "trusted": true,
        "colab": {
          "base_uri": "https://localhost:8080/",
          "height": 423
        },
        "id": "pPx-i4yTYd9_",
        "outputId": "acd657a8-a0e0-48b9-a1ee-28ff1039b46c"
      },
      "outputs": [
        {
          "output_type": "execute_result",
          "data": {
            "text/plain": [
              "                                     English  \\\n",
              "0                                      [148]   \n",
              "1                                     [2853]   \n",
              "2                                     [2853]   \n",
              "3                                     [2853]   \n",
              "4                                     [3819]   \n",
              "...                                      ...   \n",
              "130461          [62, 52, 9, 14, 6, 964, 157]   \n",
              "130462       [1, 22869, 14, 10094, 27, 4615]   \n",
              "130464  [5, 48, 13, 95, 10, 4, 253, 56, 459]   \n",
              "130466               [364, 46, 16, 212, 345]   \n",
              "130472            [2, 189, 12, 7, 56, 22870]   \n",
              "\n",
              "                                                    Hindi  \n",
              "0                                           [1, 13034, 2]  \n",
              "1                                           [1, 13035, 2]  \n",
              "2                                           [1, 13036, 2]  \n",
              "3                                            [1, 4577, 2]  \n",
              "4                                            [1, 9695, 2]  \n",
              "...                                                   ...  \n",
              "130461               [1, 99, 49, 21, 11, 1833, 164, 9, 2]  \n",
              "130462  [1, 107, 2948, 9445, 17, 3284, 8, 3267, 45, 52...  \n",
              "130464          [1, 84, 22, 180, 9, 14, 13, 1285, 840, 2]  \n",
              "130466              [1, 1123, 36, 34, 1341, 15, 7, 16, 2]  \n",
              "130472             [1, 6, 41, 24779, 5, 1153, 439, 33, 2]  \n",
              "\n",
              "[50157 rows x 2 columns]"
            ],
            "text/html": [
              "\n",
              "  <div id=\"df-545b3f06-33f3-41d6-915b-87e34a12285b\" class=\"colab-df-container\">\n",
              "    <div>\n",
              "<style scoped>\n",
              "    .dataframe tbody tr th:only-of-type {\n",
              "        vertical-align: middle;\n",
              "    }\n",
              "\n",
              "    .dataframe tbody tr th {\n",
              "        vertical-align: top;\n",
              "    }\n",
              "\n",
              "    .dataframe thead th {\n",
              "        text-align: right;\n",
              "    }\n",
              "</style>\n",
              "<table border=\"1\" class=\"dataframe\">\n",
              "  <thead>\n",
              "    <tr style=\"text-align: right;\">\n",
              "      <th></th>\n",
              "      <th>English</th>\n",
              "      <th>Hindi</th>\n",
              "    </tr>\n",
              "  </thead>\n",
              "  <tbody>\n",
              "    <tr>\n",
              "      <th>0</th>\n",
              "      <td>[148]</td>\n",
              "      <td>[1, 13034, 2]</td>\n",
              "    </tr>\n",
              "    <tr>\n",
              "      <th>1</th>\n",
              "      <td>[2853]</td>\n",
              "      <td>[1, 13035, 2]</td>\n",
              "    </tr>\n",
              "    <tr>\n",
              "      <th>2</th>\n",
              "      <td>[2853]</td>\n",
              "      <td>[1, 13036, 2]</td>\n",
              "    </tr>\n",
              "    <tr>\n",
              "      <th>3</th>\n",
              "      <td>[2853]</td>\n",
              "      <td>[1, 4577, 2]</td>\n",
              "    </tr>\n",
              "    <tr>\n",
              "      <th>4</th>\n",
              "      <td>[3819]</td>\n",
              "      <td>[1, 9695, 2]</td>\n",
              "    </tr>\n",
              "    <tr>\n",
              "      <th>...</th>\n",
              "      <td>...</td>\n",
              "      <td>...</td>\n",
              "    </tr>\n",
              "    <tr>\n",
              "      <th>130461</th>\n",
              "      <td>[62, 52, 9, 14, 6, 964, 157]</td>\n",
              "      <td>[1, 99, 49, 21, 11, 1833, 164, 9, 2]</td>\n",
              "    </tr>\n",
              "    <tr>\n",
              "      <th>130462</th>\n",
              "      <td>[1, 22869, 14, 10094, 27, 4615]</td>\n",
              "      <td>[1, 107, 2948, 9445, 17, 3284, 8, 3267, 45, 52...</td>\n",
              "    </tr>\n",
              "    <tr>\n",
              "      <th>130464</th>\n",
              "      <td>[5, 48, 13, 95, 10, 4, 253, 56, 459]</td>\n",
              "      <td>[1, 84, 22, 180, 9, 14, 13, 1285, 840, 2]</td>\n",
              "    </tr>\n",
              "    <tr>\n",
              "      <th>130466</th>\n",
              "      <td>[364, 46, 16, 212, 345]</td>\n",
              "      <td>[1, 1123, 36, 34, 1341, 15, 7, 16, 2]</td>\n",
              "    </tr>\n",
              "    <tr>\n",
              "      <th>130472</th>\n",
              "      <td>[2, 189, 12, 7, 56, 22870]</td>\n",
              "      <td>[1, 6, 41, 24779, 5, 1153, 439, 33, 2]</td>\n",
              "    </tr>\n",
              "  </tbody>\n",
              "</table>\n",
              "<p>50157 rows × 2 columns</p>\n",
              "</div>\n",
              "    <div class=\"colab-df-buttons\">\n",
              "\n",
              "  <div class=\"colab-df-container\">\n",
              "    <button class=\"colab-df-convert\" onclick=\"convertToInteractive('df-545b3f06-33f3-41d6-915b-87e34a12285b')\"\n",
              "            title=\"Convert this dataframe to an interactive table.\"\n",
              "            style=\"display:none;\">\n",
              "\n",
              "  <svg xmlns=\"http://www.w3.org/2000/svg\" height=\"24px\" viewBox=\"0 -960 960 960\">\n",
              "    <path d=\"M120-120v-720h720v720H120Zm60-500h600v-160H180v160Zm220 220h160v-160H400v160Zm0 220h160v-160H400v160ZM180-400h160v-160H180v160Zm440 0h160v-160H620v160ZM180-180h160v-160H180v160Zm440 0h160v-160H620v160Z\"/>\n",
              "  </svg>\n",
              "    </button>\n",
              "\n",
              "  <style>\n",
              "    .colab-df-container {\n",
              "      display:flex;\n",
              "      gap: 12px;\n",
              "    }\n",
              "\n",
              "    .colab-df-convert {\n",
              "      background-color: #E8F0FE;\n",
              "      border: none;\n",
              "      border-radius: 50%;\n",
              "      cursor: pointer;\n",
              "      display: none;\n",
              "      fill: #1967D2;\n",
              "      height: 32px;\n",
              "      padding: 0 0 0 0;\n",
              "      width: 32px;\n",
              "    }\n",
              "\n",
              "    .colab-df-convert:hover {\n",
              "      background-color: #E2EBFA;\n",
              "      box-shadow: 0px 1px 2px rgba(60, 64, 67, 0.3), 0px 1px 3px 1px rgba(60, 64, 67, 0.15);\n",
              "      fill: #174EA6;\n",
              "    }\n",
              "\n",
              "    .colab-df-buttons div {\n",
              "      margin-bottom: 4px;\n",
              "    }\n",
              "\n",
              "    [theme=dark] .colab-df-convert {\n",
              "      background-color: #3B4455;\n",
              "      fill: #D2E3FC;\n",
              "    }\n",
              "\n",
              "    [theme=dark] .colab-df-convert:hover {\n",
              "      background-color: #434B5C;\n",
              "      box-shadow: 0px 1px 3px 1px rgba(0, 0, 0, 0.15);\n",
              "      filter: drop-shadow(0px 1px 2px rgba(0, 0, 0, 0.3));\n",
              "      fill: #FFFFFF;\n",
              "    }\n",
              "  </style>\n",
              "\n",
              "    <script>\n",
              "      const buttonEl =\n",
              "        document.querySelector('#df-545b3f06-33f3-41d6-915b-87e34a12285b button.colab-df-convert');\n",
              "      buttonEl.style.display =\n",
              "        google.colab.kernel.accessAllowed ? 'block' : 'none';\n",
              "\n",
              "      async function convertToInteractive(key) {\n",
              "        const element = document.querySelector('#df-545b3f06-33f3-41d6-915b-87e34a12285b');\n",
              "        const dataTable =\n",
              "          await google.colab.kernel.invokeFunction('convertToInteractive',\n",
              "                                                    [key], {});\n",
              "        if (!dataTable) return;\n",
              "\n",
              "        const docLinkHtml = 'Like what you see? Visit the ' +\n",
              "          '<a target=\"_blank\" href=https://colab.research.google.com/notebooks/data_table.ipynb>data table notebook</a>'\n",
              "          + ' to learn more about interactive tables.';\n",
              "        element.innerHTML = '';\n",
              "        dataTable['output_type'] = 'display_data';\n",
              "        await google.colab.output.renderOutput(dataTable, element);\n",
              "        const docLink = document.createElement('div');\n",
              "        docLink.innerHTML = docLinkHtml;\n",
              "        element.appendChild(docLink);\n",
              "      }\n",
              "    </script>\n",
              "  </div>\n",
              "\n",
              "\n",
              "<div id=\"df-5fba7a0d-c751-4ba2-908f-67feb26cbdcd\">\n",
              "  <button class=\"colab-df-quickchart\" onclick=\"quickchart('df-5fba7a0d-c751-4ba2-908f-67feb26cbdcd')\"\n",
              "            title=\"Suggest charts\"\n",
              "            style=\"display:none;\">\n",
              "\n",
              "<svg xmlns=\"http://www.w3.org/2000/svg\" height=\"24px\"viewBox=\"0 0 24 24\"\n",
              "     width=\"24px\">\n",
              "    <g>\n",
              "        <path d=\"M19 3H5c-1.1 0-2 .9-2 2v14c0 1.1.9 2 2 2h14c1.1 0 2-.9 2-2V5c0-1.1-.9-2-2-2zM9 17H7v-7h2v7zm4 0h-2V7h2v10zm4 0h-2v-4h2v4z\"/>\n",
              "    </g>\n",
              "</svg>\n",
              "  </button>\n",
              "\n",
              "<style>\n",
              "  .colab-df-quickchart {\n",
              "      --bg-color: #E8F0FE;\n",
              "      --fill-color: #1967D2;\n",
              "      --hover-bg-color: #E2EBFA;\n",
              "      --hover-fill-color: #174EA6;\n",
              "      --disabled-fill-color: #AAA;\n",
              "      --disabled-bg-color: #DDD;\n",
              "  }\n",
              "\n",
              "  [theme=dark] .colab-df-quickchart {\n",
              "      --bg-color: #3B4455;\n",
              "      --fill-color: #D2E3FC;\n",
              "      --hover-bg-color: #434B5C;\n",
              "      --hover-fill-color: #FFFFFF;\n",
              "      --disabled-bg-color: #3B4455;\n",
              "      --disabled-fill-color: #666;\n",
              "  }\n",
              "\n",
              "  .colab-df-quickchart {\n",
              "    background-color: var(--bg-color);\n",
              "    border: none;\n",
              "    border-radius: 50%;\n",
              "    cursor: pointer;\n",
              "    display: none;\n",
              "    fill: var(--fill-color);\n",
              "    height: 32px;\n",
              "    padding: 0;\n",
              "    width: 32px;\n",
              "  }\n",
              "\n",
              "  .colab-df-quickchart:hover {\n",
              "    background-color: var(--hover-bg-color);\n",
              "    box-shadow: 0 1px 2px rgba(60, 64, 67, 0.3), 0 1px 3px 1px rgba(60, 64, 67, 0.15);\n",
              "    fill: var(--button-hover-fill-color);\n",
              "  }\n",
              "\n",
              "  .colab-df-quickchart-complete:disabled,\n",
              "  .colab-df-quickchart-complete:disabled:hover {\n",
              "    background-color: var(--disabled-bg-color);\n",
              "    fill: var(--disabled-fill-color);\n",
              "    box-shadow: none;\n",
              "  }\n",
              "\n",
              "  .colab-df-spinner {\n",
              "    border: 2px solid var(--fill-color);\n",
              "    border-color: transparent;\n",
              "    border-bottom-color: var(--fill-color);\n",
              "    animation:\n",
              "      spin 1s steps(1) infinite;\n",
              "  }\n",
              "\n",
              "  @keyframes spin {\n",
              "    0% {\n",
              "      border-color: transparent;\n",
              "      border-bottom-color: var(--fill-color);\n",
              "      border-left-color: var(--fill-color);\n",
              "    }\n",
              "    20% {\n",
              "      border-color: transparent;\n",
              "      border-left-color: var(--fill-color);\n",
              "      border-top-color: var(--fill-color);\n",
              "    }\n",
              "    30% {\n",
              "      border-color: transparent;\n",
              "      border-left-color: var(--fill-color);\n",
              "      border-top-color: var(--fill-color);\n",
              "      border-right-color: var(--fill-color);\n",
              "    }\n",
              "    40% {\n",
              "      border-color: transparent;\n",
              "      border-right-color: var(--fill-color);\n",
              "      border-top-color: var(--fill-color);\n",
              "    }\n",
              "    60% {\n",
              "      border-color: transparent;\n",
              "      border-right-color: var(--fill-color);\n",
              "    }\n",
              "    80% {\n",
              "      border-color: transparent;\n",
              "      border-right-color: var(--fill-color);\n",
              "      border-bottom-color: var(--fill-color);\n",
              "    }\n",
              "    90% {\n",
              "      border-color: transparent;\n",
              "      border-bottom-color: var(--fill-color);\n",
              "    }\n",
              "  }\n",
              "</style>\n",
              "\n",
              "  <script>\n",
              "    async function quickchart(key) {\n",
              "      const quickchartButtonEl =\n",
              "        document.querySelector('#' + key + ' button');\n",
              "      quickchartButtonEl.disabled = true;  // To prevent multiple clicks.\n",
              "      quickchartButtonEl.classList.add('colab-df-spinner');\n",
              "      try {\n",
              "        const charts = await google.colab.kernel.invokeFunction(\n",
              "            'suggestCharts', [key], {});\n",
              "      } catch (error) {\n",
              "        console.error('Error during call to suggestCharts:', error);\n",
              "      }\n",
              "      quickchartButtonEl.classList.remove('colab-df-spinner');\n",
              "      quickchartButtonEl.classList.add('colab-df-quickchart-complete');\n",
              "    }\n",
              "    (() => {\n",
              "      let quickchartButtonEl =\n",
              "        document.querySelector('#df-5fba7a0d-c751-4ba2-908f-67feb26cbdcd button');\n",
              "      quickchartButtonEl.style.display =\n",
              "        google.colab.kernel.accessAllowed ? 'block' : 'none';\n",
              "    })();\n",
              "  </script>\n",
              "</div>\n",
              "\n",
              "  <div id=\"id_158a66de-f055-4c3b-abe0-d30e070831d0\">\n",
              "    <style>\n",
              "      .colab-df-generate {\n",
              "        background-color: #E8F0FE;\n",
              "        border: none;\n",
              "        border-radius: 50%;\n",
              "        cursor: pointer;\n",
              "        display: none;\n",
              "        fill: #1967D2;\n",
              "        height: 32px;\n",
              "        padding: 0 0 0 0;\n",
              "        width: 32px;\n",
              "      }\n",
              "\n",
              "      .colab-df-generate:hover {\n",
              "        background-color: #E2EBFA;\n",
              "        box-shadow: 0px 1px 2px rgba(60, 64, 67, 0.3), 0px 1px 3px 1px rgba(60, 64, 67, 0.15);\n",
              "        fill: #174EA6;\n",
              "      }\n",
              "\n",
              "      [theme=dark] .colab-df-generate {\n",
              "        background-color: #3B4455;\n",
              "        fill: #D2E3FC;\n",
              "      }\n",
              "\n",
              "      [theme=dark] .colab-df-generate:hover {\n",
              "        background-color: #434B5C;\n",
              "        box-shadow: 0px 1px 3px 1px rgba(0, 0, 0, 0.15);\n",
              "        filter: drop-shadow(0px 1px 2px rgba(0, 0, 0, 0.3));\n",
              "        fill: #FFFFFF;\n",
              "      }\n",
              "    </style>\n",
              "    <button class=\"colab-df-generate\" onclick=\"generateWithVariable('data')\"\n",
              "            title=\"Generate code using this dataframe.\"\n",
              "            style=\"display:none;\">\n",
              "\n",
              "  <svg xmlns=\"http://www.w3.org/2000/svg\" height=\"24px\"viewBox=\"0 0 24 24\"\n",
              "       width=\"24px\">\n",
              "    <path d=\"M7,19H8.4L18.45,9,17,7.55,7,17.6ZM5,21V16.75L18.45,3.32a2,2,0,0,1,2.83,0l1.4,1.43a1.91,1.91,0,0,1,.58,1.4,1.91,1.91,0,0,1-.58,1.4L9.25,21ZM18.45,9,17,7.55Zm-12,3A5.31,5.31,0,0,0,4.9,8.1,5.31,5.31,0,0,0,1,6.5,5.31,5.31,0,0,0,4.9,4.9,5.31,5.31,0,0,0,6.5,1,5.31,5.31,0,0,0,8.1,4.9,5.31,5.31,0,0,0,12,6.5,5.46,5.46,0,0,0,6.5,12Z\"/>\n",
              "  </svg>\n",
              "    </button>\n",
              "    <script>\n",
              "      (() => {\n",
              "      const buttonEl =\n",
              "        document.querySelector('#id_158a66de-f055-4c3b-abe0-d30e070831d0 button.colab-df-generate');\n",
              "      buttonEl.style.display =\n",
              "        google.colab.kernel.accessAllowed ? 'block' : 'none';\n",
              "\n",
              "      buttonEl.onclick = () => {\n",
              "        google.colab.notebook.generateWithVariable('data');\n",
              "      }\n",
              "      })();\n",
              "    </script>\n",
              "  </div>\n",
              "\n",
              "    </div>\n",
              "  </div>\n"
            ],
            "application/vnd.google.colaboratory.intrinsic+json": {
              "type": "dataframe",
              "variable_name": "data",
              "summary": "{\n  \"name\": \"data\",\n  \"rows\": 50157,\n  \"fields\": [\n    {\n      \"column\": \"English\",\n      \"properties\": {\n        \"dtype\": \"object\",\n        \"semantic_type\": \"\",\n        \"description\": \"\"\n      }\n    },\n    {\n      \"column\": \"Hindi\",\n      \"properties\": {\n        \"dtype\": \"object\",\n        \"semantic_type\": \"\",\n        \"description\": \"\"\n      }\n    }\n  ]\n}"
            }
          },
          "metadata": {},
          "execution_count": 39
        }
      ],
      "execution_count": 39
    },
    {
      "cell_type": "code",
      "source": [
        "def calculate_max_sequence_length(eng,hindi):\n",
        "    max_length_combined = max(max(len(seq) for seq in eng), max(len(seq) for seq in hindi))\n",
        "\n",
        "    return max_length_combined\n",
        "\n",
        "max_length_combined = calculate_max_sequence_length(data['English'],data['Hindi'])\n",
        "max_length_combined"
      ],
      "metadata": {
        "execution": {
          "iopub.status.busy": "2024-09-19T09:17:55.482389Z",
          "iopub.execute_input": "2024-09-19T09:17:55.482647Z",
          "iopub.status.idle": "2024-09-19T09:17:55.513002Z",
          "shell.execute_reply.started": "2024-09-19T09:17:55.482625Z",
          "shell.execute_reply": "2024-09-19T09:17:55.512145Z"
        },
        "trusted": true,
        "colab": {
          "base_uri": "https://localhost:8080/"
        },
        "id": "uddxtcQUYd9_",
        "outputId": "0db9f93e-db7a-49b3-f80b-a114c9a6efb0"
      },
      "outputs": [
        {
          "output_type": "execute_result",
          "data": {
            "text/plain": [
              "260"
            ]
          },
          "metadata": {},
          "execution_count": 40
        }
      ],
      "execution_count": 40
    },
    {
      "cell_type": "code",
      "source": [
        "for num in data['English'][0]:\n",
        "    print(num, end=' ')"
      ],
      "metadata": {
        "execution": {
          "iopub.status.busy": "2024-09-19T09:17:55.51421Z",
          "iopub.execute_input": "2024-09-19T09:17:55.514588Z",
          "iopub.status.idle": "2024-09-19T09:17:55.523013Z",
          "shell.execute_reply.started": "2024-09-19T09:17:55.514557Z",
          "shell.execute_reply": "2024-09-19T09:17:55.522017Z"
        },
        "trusted": true,
        "colab": {
          "base_uri": "https://localhost:8080/"
        },
        "id": "lRbFlo24Yd9_",
        "outputId": "d17b2e77-206b-46e6-8a77-a21d8bd33fd5"
      },
      "outputs": [
        {
          "output_type": "stream",
          "name": "stdout",
          "text": [
            "148 "
          ]
        }
      ],
      "execution_count": 41
    },
    {
      "cell_type": "code",
      "source": [
        "# Print corresponding words horizontally\n",
        "for num in data['English'][0]:\n",
        "    word = tok.index_word.get(num, 'UNK')\n",
        "    print(word, end=' ')"
      ],
      "metadata": {
        "execution": {
          "iopub.status.busy": "2024-09-19T09:17:55.524313Z",
          "iopub.execute_input": "2024-09-19T09:17:55.524723Z",
          "iopub.status.idle": "2024-09-19T09:17:55.53215Z",
          "shell.execute_reply.started": "2024-09-19T09:17:55.52469Z",
          "shell.execute_reply": "2024-09-19T09:17:55.531229Z"
        },
        "trusted": true,
        "colab": {
          "base_uri": "https://localhost:8080/"
        },
        "id": "OlcjDTMzYd-A",
        "outputId": "e0347969-6963-47de-88d7-4fbb9ae8c57a"
      },
      "outputs": [
        {
          "output_type": "stream",
          "name": "stdout",
          "text": [
            "help "
          ]
        }
      ],
      "execution_count": 42
    },
    {
      "cell_type": "code",
      "source": [
        "for num in data['Hindi'][0]:\n",
        "    word = tok_hindi.index_word.get(num)\n",
        "    print(word,end = \" \")"
      ],
      "metadata": {
        "execution": {
          "iopub.status.busy": "2024-09-19T09:17:55.53937Z",
          "iopub.execute_input": "2024-09-19T09:17:55.539684Z",
          "iopub.status.idle": "2024-09-19T09:17:55.54467Z",
          "shell.execute_reply.started": "2024-09-19T09:17:55.539661Z",
          "shell.execute_reply": "2024-09-19T09:17:55.543718Z"
        },
        "trusted": true,
        "colab": {
          "base_uri": "https://localhost:8080/"
        },
        "id": "0bjRp0IAYd-A",
        "outputId": "1fa86740-da39-490e-b788-bf71e0c0edd2"
      },
      "outputs": [
        {
          "output_type": "stream",
          "name": "stdout",
          "text": [
            "start बचाओ end "
          ]
        }
      ],
      "execution_count": 43
    },
    {
      "cell_type": "markdown",
      "source": [
        "<a id='4.11'></a>\n",
        "### **11. separating the data in dependent and independent**"
      ],
      "metadata": {
        "id": "lVTtR1EnYd-B"
      }
    },
    {
      "cell_type": "code",
      "source": [
        "hindi = data['Hindi']\n",
        "english = data['English']"
      ],
      "metadata": {
        "execution": {
          "iopub.status.busy": "2024-09-19T09:17:55.545777Z",
          "iopub.execute_input": "2024-09-19T09:17:55.546055Z",
          "iopub.status.idle": "2024-09-19T09:17:55.552698Z",
          "shell.execute_reply.started": "2024-09-19T09:17:55.546033Z",
          "shell.execute_reply": "2024-09-19T09:17:55.55177Z"
        },
        "trusted": true,
        "id": "xP2wDHS-Yd-C"
      },
      "outputs": [],
      "execution_count": 44
    },
    {
      "cell_type": "markdown",
      "source": [
        "<a id='4.12'></a>\n",
        "### **12. Padding**"
      ],
      "metadata": {
        "id": "qo7264BcYd-D"
      }
    },
    {
      "cell_type": "code",
      "source": [
        "x = pad_sequences(english,maxlen = max_length_combined,padding = 'post')\n",
        "y = pad_sequences(hindi,maxlen = max_length_combined,padding = 'post')"
      ],
      "metadata": {
        "execution": {
          "iopub.status.busy": "2024-09-19T09:17:55.553783Z",
          "iopub.execute_input": "2024-09-19T09:17:55.554088Z",
          "iopub.status.idle": "2024-09-19T09:17:55.998743Z",
          "shell.execute_reply.started": "2024-09-19T09:17:55.554065Z",
          "shell.execute_reply": "2024-09-19T09:17:55.997964Z"
        },
        "trusted": true,
        "id": "YElnrkPVYd-D"
      },
      "outputs": [],
      "execution_count": 45
    },
    {
      "cell_type": "code",
      "source": [
        "x"
      ],
      "metadata": {
        "execution": {
          "iopub.status.busy": "2024-09-19T09:17:55.999764Z",
          "iopub.execute_input": "2024-09-19T09:17:56.000045Z",
          "iopub.status.idle": "2024-09-19T09:17:56.006201Z",
          "shell.execute_reply.started": "2024-09-19T09:17:56.000022Z",
          "shell.execute_reply": "2024-09-19T09:17:56.005318Z"
        },
        "trusted": true,
        "colab": {
          "base_uri": "https://localhost:8080/"
        },
        "id": "_i8YAT4GYd-D",
        "outputId": "f820131c-b47d-426c-d496-5ac94170fbdb"
      },
      "outputs": [
        {
          "output_type": "execute_result",
          "data": {
            "text/plain": [
              "array([[ 148,    0,    0, ...,    0,    0,    0],\n",
              "       [2853,    0,    0, ...,    0,    0,    0],\n",
              "       [2853,    0,    0, ...,    0,    0,    0],\n",
              "       ...,\n",
              "       [   5,   48,   13, ...,    0,    0,    0],\n",
              "       [ 364,   46,   16, ...,    0,    0,    0],\n",
              "       [   2,  189,   12, ...,    0,    0,    0]], dtype=int32)"
            ]
          },
          "metadata": {},
          "execution_count": 46
        }
      ],
      "execution_count": 46
    },
    {
      "cell_type": "code",
      "source": [
        "y"
      ],
      "metadata": {
        "execution": {
          "iopub.status.busy": "2024-09-19T09:17:56.007481Z",
          "iopub.execute_input": "2024-09-19T09:17:56.007856Z",
          "iopub.status.idle": "2024-09-19T09:17:56.018102Z",
          "shell.execute_reply.started": "2024-09-19T09:17:56.007804Z",
          "shell.execute_reply": "2024-09-19T09:17:56.017164Z"
        },
        "trusted": true,
        "colab": {
          "base_uri": "https://localhost:8080/"
        },
        "id": "WTz3SEl9Yd-E",
        "outputId": "dc6cd755-cb88-4b85-de7c-8df1adafe75d"
      },
      "outputs": [
        {
          "output_type": "execute_result",
          "data": {
            "text/plain": [
              "array([[    1, 13034,     2, ...,     0,     0,     0],\n",
              "       [    1, 13035,     2, ...,     0,     0,     0],\n",
              "       [    1, 13036,     2, ...,     0,     0,     0],\n",
              "       ...,\n",
              "       [    1,    84,    22, ...,     0,     0,     0],\n",
              "       [    1,  1123,    36, ...,     0,     0,     0],\n",
              "       [    1,     6,    41, ...,     0,     0,     0]], dtype=int32)"
            ]
          },
          "metadata": {},
          "execution_count": 47
        }
      ],
      "execution_count": 47
    },
    {
      "cell_type": "markdown",
      "source": [
        "<a id='4.13'></a>\n",
        "### **13. splitting in train test and val**"
      ],
      "metadata": {
        "execution": {
          "iopub.status.busy": "2024-07-08T06:49:45.809649Z",
          "iopub.execute_input": "2024-07-08T06:49:45.81026Z",
          "iopub.status.idle": "2024-07-08T06:49:45.82079Z",
          "shell.execute_reply.started": "2024-07-08T06:49:45.810223Z",
          "shell.execute_reply": "2024-07-08T06:49:45.818713Z"
        },
        "id": "XQscl7wVYd-G"
      }
    },
    {
      "cell_type": "code",
      "source": [
        "x_train,x_test,y_train,y_test = train_test_split(x,y,test_size=0.2,random_state=42)"
      ],
      "metadata": {
        "execution": {
          "iopub.status.busy": "2024-09-19T09:17:56.019238Z",
          "iopub.execute_input": "2024-09-19T09:17:56.01964Z",
          "iopub.status.idle": "2024-09-19T09:17:56.069207Z",
          "shell.execute_reply.started": "2024-09-19T09:17:56.019608Z",
          "shell.execute_reply": "2024-09-19T09:17:56.06838Z"
        },
        "trusted": true,
        "id": "2qGVvNXzYd-G"
      },
      "outputs": [],
      "execution_count": 48
    },
    {
      "cell_type": "code",
      "source": [
        "# Check the shape of the resulting arrays\n",
        "print(\"Shape of x_train:\", x_train.shape)\n",
        "print(\"Shape of x_test:\", x_test.shape)\n",
        "print(\"Shape of y_train:\", y_train.shape)\n",
        "print(\"Shape of y_test:\", y_test.shape)"
      ],
      "metadata": {
        "execution": {
          "iopub.status.busy": "2024-09-19T09:17:56.070205Z",
          "iopub.execute_input": "2024-09-19T09:17:56.070465Z",
          "iopub.status.idle": "2024-09-19T09:17:56.075723Z",
          "shell.execute_reply.started": "2024-09-19T09:17:56.070443Z",
          "shell.execute_reply": "2024-09-19T09:17:56.074848Z"
        },
        "trusted": true,
        "colab": {
          "base_uri": "https://localhost:8080/"
        },
        "id": "RWasUuz5Yd-H",
        "outputId": "0a8c5cf4-5abe-45cc-d924-04ee0a463dc2"
      },
      "outputs": [
        {
          "output_type": "stream",
          "name": "stdout",
          "text": [
            "Shape of x_train: (40125, 260)\n",
            "Shape of x_test: (10032, 260)\n",
            "Shape of y_train: (40125, 260)\n",
            "Shape of y_test: (10032, 260)\n"
          ]
        }
      ],
      "execution_count": 49
    },
    {
      "cell_type": "markdown",
      "source": [
        "<center><div style='color:#ffffff;\n",
        "           display:inline-block;\n",
        "           padding: 5px 5px 5px 5px;\n",
        "           border-radius:5px;\n",
        "           background-color:#78D1E1;\n",
        "           font-size:100%;'><a href=#toc style='text-decoration: none; color:#03001C;'>⬆️ Back To Top</a></div></center>\n",
        "\n",
        "<a id='5'></a>\n",
        "# 5 | Modelling\n",
        "\n",
        "<div style=\"padding: 4px;color:white;margin:10;font-size:200%;text-align:center;display:fill;border-radius:10px;overflow:hidden;background-image: url(https://i.postimg.cc/fTDmwnkQ/Miaka.png); background-size: 100% auto;\"></div>\n"
      ],
      "metadata": {
        "id": "sUAeMGOXYd-H"
      }
    },
    {
      "cell_type": "markdown",
      "source": [
        "<a id='5.1'></a>\n",
        "### **5.1. ENCODER-DECODER MODEL**"
      ],
      "metadata": {
        "execution": {
          "iopub.status.busy": "2024-07-12T06:02:20.301957Z",
          "iopub.execute_input": "2024-07-12T06:02:20.302442Z",
          "iopub.status.idle": "2024-07-12T06:02:20.309605Z",
          "shell.execute_reply.started": "2024-07-12T06:02:20.302394Z",
          "shell.execute_reply": "2024-07-12T06:02:20.308069Z"
        },
        "id": "7cdjhlrUYd-I"
      }
    },
    {
      "cell_type": "code",
      "source": [
        "max_length_input = x_train.shape[1]\n",
        "max_length_output = y_train.shape[1]\n",
        "input_vocab_size = len(tok.word_index) + 1\n",
        "output_vocab_size = len(tok_hindi.word_index) + 1\n",
        "\n",
        "# Define Encoder model\n",
        "encoder_inputs = Input(shape=(max_length_input,))\n",
        "encoder_embedding = Embedding(input_dim=input_vocab_size, output_dim=260)(encoder_inputs)\n",
        "encoder_lstm = LSTM(156, return_state=True)\n",
        "encoder_outputs, state_h, state_c = encoder_lstm(encoder_embedding)\n",
        "encoder_states = [state_h, state_c]\n",
        "\n",
        "# Define Decoder model\n",
        "decoder_inputs = Input(shape=(max_length_output,))\n",
        "decoder_embedding = Embedding(input_dim=output_vocab_size, output_dim=260)(decoder_inputs)\n",
        "decoder_lstm = LSTM(156, return_sequences=True, return_state=True)\n",
        "decoder_outputs, _, _ = decoder_lstm(decoder_embedding, initial_state=encoder_states)\n",
        "decoder_dense = Dense(output_vocab_size, activation='softmax')\n",
        "decoder_outputs = decoder_dense(decoder_outputs)\n",
        "\n",
        "# Define the full Encoder-Decoder model\n",
        "model = Model([encoder_inputs, decoder_inputs], decoder_outputs)\n",
        "\n",
        "# Compile the model\n",
        "model.compile(optimizer='adam', loss='sparse_categorical_crossentropy', metrics=['accuracy'])\n",
        "\n",
        "# Print model summary\n",
        "model.summary()"
      ],
      "metadata": {
        "execution": {
          "iopub.status.busy": "2024-09-19T09:17:56.077147Z",
          "iopub.execute_input": "2024-09-19T09:17:56.077493Z",
          "iopub.status.idle": "2024-09-19T09:17:57.322997Z",
          "shell.execute_reply.started": "2024-09-19T09:17:56.077463Z",
          "shell.execute_reply": "2024-09-19T09:17:57.322095Z"
        },
        "trusted": true,
        "colab": {
          "base_uri": "https://localhost:8080/",
          "height": 417
        },
        "id": "Kf57sap6Yd-I",
        "outputId": "8bdeb3e4-d629-4416-b5f6-663055c6fdcb"
      },
      "outputs": [
        {
          "output_type": "display_data",
          "data": {
            "text/plain": [
              "\u001b[1mModel: \"functional\"\u001b[0m\n"
            ],
            "text/html": [
              "<pre style=\"white-space:pre;overflow-x:auto;line-height:normal;font-family:Menlo,'DejaVu Sans Mono',consolas,'Courier New',monospace\"><span style=\"font-weight: bold\">Model: \"functional\"</span>\n",
              "</pre>\n"
            ]
          },
          "metadata": {}
        },
        {
          "output_type": "display_data",
          "data": {
            "text/plain": [
              "┏━━━━━━━━━━━━━━━━━━━━━━━━━━━┳━━━━━━━━━━━━━━━━━━━━━━━━┳━━━━━━━━━━━━━━━━┳━━━━━━━━━━━━━━━━━━━━━━━━┓\n",
              "┃\u001b[1m \u001b[0m\u001b[1mLayer (type)             \u001b[0m\u001b[1m \u001b[0m┃\u001b[1m \u001b[0m\u001b[1mOutput Shape          \u001b[0m\u001b[1m \u001b[0m┃\u001b[1m \u001b[0m\u001b[1m       Param #\u001b[0m\u001b[1m \u001b[0m┃\u001b[1m \u001b[0m\u001b[1mConnected to          \u001b[0m\u001b[1m \u001b[0m┃\n",
              "┡━━━━━━━━━━━━━━━━━━━━━━━━━━━╇━━━━━━━━━━━━━━━━━━━━━━━━╇━━━━━━━━━━━━━━━━╇━━━━━━━━━━━━━━━━━━━━━━━━┩\n",
              "│ input_layer (\u001b[38;5;33mInputLayer\u001b[0m)  │ (\u001b[38;5;45mNone\u001b[0m, \u001b[38;5;34m260\u001b[0m)            │              \u001b[38;5;34m0\u001b[0m │ -                      │\n",
              "├───────────────────────────┼────────────────────────┼────────────────┼────────────────────────┤\n",
              "│ input_layer_1             │ (\u001b[38;5;45mNone\u001b[0m, \u001b[38;5;34m260\u001b[0m)            │              \u001b[38;5;34m0\u001b[0m │ -                      │\n",
              "│ (\u001b[38;5;33mInputLayer\u001b[0m)              │                        │                │                        │\n",
              "├───────────────────────────┼────────────────────────┼────────────────┼────────────────────────┤\n",
              "│ embedding (\u001b[38;5;33mEmbedding\u001b[0m)     │ (\u001b[38;5;45mNone\u001b[0m, \u001b[38;5;34m260\u001b[0m, \u001b[38;5;34m260\u001b[0m)       │      \u001b[38;5;34m5,946,460\u001b[0m │ input_layer[\u001b[38;5;34m0\u001b[0m][\u001b[38;5;34m0\u001b[0m]      │\n",
              "├───────────────────────────┼────────────────────────┼────────────────┼────────────────────────┤\n",
              "│ embedding_1 (\u001b[38;5;33mEmbedding\u001b[0m)   │ (\u001b[38;5;45mNone\u001b[0m, \u001b[38;5;34m260\u001b[0m, \u001b[38;5;34m260\u001b[0m)       │      \u001b[38;5;34m6,442,800\u001b[0m │ input_layer_1[\u001b[38;5;34m0\u001b[0m][\u001b[38;5;34m0\u001b[0m]    │\n",
              "├───────────────────────────┼────────────────────────┼────────────────┼────────────────────────┤\n",
              "│ lstm (\u001b[38;5;33mLSTM\u001b[0m)               │ [(\u001b[38;5;45mNone\u001b[0m, \u001b[38;5;34m156\u001b[0m), (\u001b[38;5;45mNone\u001b[0m,   │        \u001b[38;5;34m260,208\u001b[0m │ embedding[\u001b[38;5;34m0\u001b[0m][\u001b[38;5;34m0\u001b[0m]        │\n",
              "│                           │ \u001b[38;5;34m156\u001b[0m), (\u001b[38;5;45mNone\u001b[0m, \u001b[38;5;34m156\u001b[0m)]     │                │                        │\n",
              "├───────────────────────────┼────────────────────────┼────────────────┼────────────────────────┤\n",
              "│ lstm_1 (\u001b[38;5;33mLSTM\u001b[0m)             │ [(\u001b[38;5;45mNone\u001b[0m, \u001b[38;5;34m260\u001b[0m, \u001b[38;5;34m156\u001b[0m),     │        \u001b[38;5;34m260,208\u001b[0m │ embedding_1[\u001b[38;5;34m0\u001b[0m][\u001b[38;5;34m0\u001b[0m],     │\n",
              "│                           │ (\u001b[38;5;45mNone\u001b[0m, \u001b[38;5;34m156\u001b[0m), (\u001b[38;5;45mNone\u001b[0m,    │                │ lstm[\u001b[38;5;34m0\u001b[0m][\u001b[38;5;34m1\u001b[0m], lstm[\u001b[38;5;34m0\u001b[0m][\u001b[38;5;34m2\u001b[0m] │\n",
              "│                           │ \u001b[38;5;34m156\u001b[0m)]                  │                │                        │\n",
              "├───────────────────────────┼────────────────────────┼────────────────┼────────────────────────┤\n",
              "│ dense (\u001b[38;5;33mDense\u001b[0m)             │ (\u001b[38;5;45mNone\u001b[0m, \u001b[38;5;34m260\u001b[0m, \u001b[38;5;34m24780\u001b[0m)     │      \u001b[38;5;34m3,890,460\u001b[0m │ lstm_1[\u001b[38;5;34m0\u001b[0m][\u001b[38;5;34m0\u001b[0m]           │\n",
              "└───────────────────────────┴────────────────────────┴────────────────┴────────────────────────┘\n"
            ],
            "text/html": [
              "<pre style=\"white-space:pre;overflow-x:auto;line-height:normal;font-family:Menlo,'DejaVu Sans Mono',consolas,'Courier New',monospace\">┏━━━━━━━━━━━━━━━━━━━━━━━━━━━┳━━━━━━━━━━━━━━━━━━━━━━━━┳━━━━━━━━━━━━━━━━┳━━━━━━━━━━━━━━━━━━━━━━━━┓\n",
              "┃<span style=\"font-weight: bold\"> Layer (type)              </span>┃<span style=\"font-weight: bold\"> Output Shape           </span>┃<span style=\"font-weight: bold\">        Param # </span>┃<span style=\"font-weight: bold\"> Connected to           </span>┃\n",
              "┡━━━━━━━━━━━━━━━━━━━━━━━━━━━╇━━━━━━━━━━━━━━━━━━━━━━━━╇━━━━━━━━━━━━━━━━╇━━━━━━━━━━━━━━━━━━━━━━━━┩\n",
              "│ input_layer (<span style=\"color: #0087ff; text-decoration-color: #0087ff\">InputLayer</span>)  │ (<span style=\"color: #00d7ff; text-decoration-color: #00d7ff\">None</span>, <span style=\"color: #00af00; text-decoration-color: #00af00\">260</span>)            │              <span style=\"color: #00af00; text-decoration-color: #00af00\">0</span> │ -                      │\n",
              "├───────────────────────────┼────────────────────────┼────────────────┼────────────────────────┤\n",
              "│ input_layer_1             │ (<span style=\"color: #00d7ff; text-decoration-color: #00d7ff\">None</span>, <span style=\"color: #00af00; text-decoration-color: #00af00\">260</span>)            │              <span style=\"color: #00af00; text-decoration-color: #00af00\">0</span> │ -                      │\n",
              "│ (<span style=\"color: #0087ff; text-decoration-color: #0087ff\">InputLayer</span>)              │                        │                │                        │\n",
              "├───────────────────────────┼────────────────────────┼────────────────┼────────────────────────┤\n",
              "│ embedding (<span style=\"color: #0087ff; text-decoration-color: #0087ff\">Embedding</span>)     │ (<span style=\"color: #00d7ff; text-decoration-color: #00d7ff\">None</span>, <span style=\"color: #00af00; text-decoration-color: #00af00\">260</span>, <span style=\"color: #00af00; text-decoration-color: #00af00\">260</span>)       │      <span style=\"color: #00af00; text-decoration-color: #00af00\">5,946,460</span> │ input_layer[<span style=\"color: #00af00; text-decoration-color: #00af00\">0</span>][<span style=\"color: #00af00; text-decoration-color: #00af00\">0</span>]      │\n",
              "├───────────────────────────┼────────────────────────┼────────────────┼────────────────────────┤\n",
              "│ embedding_1 (<span style=\"color: #0087ff; text-decoration-color: #0087ff\">Embedding</span>)   │ (<span style=\"color: #00d7ff; text-decoration-color: #00d7ff\">None</span>, <span style=\"color: #00af00; text-decoration-color: #00af00\">260</span>, <span style=\"color: #00af00; text-decoration-color: #00af00\">260</span>)       │      <span style=\"color: #00af00; text-decoration-color: #00af00\">6,442,800</span> │ input_layer_1[<span style=\"color: #00af00; text-decoration-color: #00af00\">0</span>][<span style=\"color: #00af00; text-decoration-color: #00af00\">0</span>]    │\n",
              "├───────────────────────────┼────────────────────────┼────────────────┼────────────────────────┤\n",
              "│ lstm (<span style=\"color: #0087ff; text-decoration-color: #0087ff\">LSTM</span>)               │ [(<span style=\"color: #00d7ff; text-decoration-color: #00d7ff\">None</span>, <span style=\"color: #00af00; text-decoration-color: #00af00\">156</span>), (<span style=\"color: #00d7ff; text-decoration-color: #00d7ff\">None</span>,   │        <span style=\"color: #00af00; text-decoration-color: #00af00\">260,208</span> │ embedding[<span style=\"color: #00af00; text-decoration-color: #00af00\">0</span>][<span style=\"color: #00af00; text-decoration-color: #00af00\">0</span>]        │\n",
              "│                           │ <span style=\"color: #00af00; text-decoration-color: #00af00\">156</span>), (<span style=\"color: #00d7ff; text-decoration-color: #00d7ff\">None</span>, <span style=\"color: #00af00; text-decoration-color: #00af00\">156</span>)]     │                │                        │\n",
              "├───────────────────────────┼────────────────────────┼────────────────┼────────────────────────┤\n",
              "│ lstm_1 (<span style=\"color: #0087ff; text-decoration-color: #0087ff\">LSTM</span>)             │ [(<span style=\"color: #00d7ff; text-decoration-color: #00d7ff\">None</span>, <span style=\"color: #00af00; text-decoration-color: #00af00\">260</span>, <span style=\"color: #00af00; text-decoration-color: #00af00\">156</span>),     │        <span style=\"color: #00af00; text-decoration-color: #00af00\">260,208</span> │ embedding_1[<span style=\"color: #00af00; text-decoration-color: #00af00\">0</span>][<span style=\"color: #00af00; text-decoration-color: #00af00\">0</span>],     │\n",
              "│                           │ (<span style=\"color: #00d7ff; text-decoration-color: #00d7ff\">None</span>, <span style=\"color: #00af00; text-decoration-color: #00af00\">156</span>), (<span style=\"color: #00d7ff; text-decoration-color: #00d7ff\">None</span>,    │                │ lstm[<span style=\"color: #00af00; text-decoration-color: #00af00\">0</span>][<span style=\"color: #00af00; text-decoration-color: #00af00\">1</span>], lstm[<span style=\"color: #00af00; text-decoration-color: #00af00\">0</span>][<span style=\"color: #00af00; text-decoration-color: #00af00\">2</span>] │\n",
              "│                           │ <span style=\"color: #00af00; text-decoration-color: #00af00\">156</span>)]                  │                │                        │\n",
              "├───────────────────────────┼────────────────────────┼────────────────┼────────────────────────┤\n",
              "│ dense (<span style=\"color: #0087ff; text-decoration-color: #0087ff\">Dense</span>)             │ (<span style=\"color: #00d7ff; text-decoration-color: #00d7ff\">None</span>, <span style=\"color: #00af00; text-decoration-color: #00af00\">260</span>, <span style=\"color: #00af00; text-decoration-color: #00af00\">24780</span>)     │      <span style=\"color: #00af00; text-decoration-color: #00af00\">3,890,460</span> │ lstm_1[<span style=\"color: #00af00; text-decoration-color: #00af00\">0</span>][<span style=\"color: #00af00; text-decoration-color: #00af00\">0</span>]           │\n",
              "└───────────────────────────┴────────────────────────┴────────────────┴────────────────────────┘\n",
              "</pre>\n"
            ]
          },
          "metadata": {}
        },
        {
          "output_type": "display_data",
          "data": {
            "text/plain": [
              "\u001b[1m Total params: \u001b[0m\u001b[38;5;34m16,800,136\u001b[0m (64.09 MB)\n"
            ],
            "text/html": [
              "<pre style=\"white-space:pre;overflow-x:auto;line-height:normal;font-family:Menlo,'DejaVu Sans Mono',consolas,'Courier New',monospace\"><span style=\"font-weight: bold\"> Total params: </span><span style=\"color: #00af00; text-decoration-color: #00af00\">16,800,136</span> (64.09 MB)\n",
              "</pre>\n"
            ]
          },
          "metadata": {}
        },
        {
          "output_type": "display_data",
          "data": {
            "text/plain": [
              "\u001b[1m Trainable params: \u001b[0m\u001b[38;5;34m16,800,136\u001b[0m (64.09 MB)\n"
            ],
            "text/html": [
              "<pre style=\"white-space:pre;overflow-x:auto;line-height:normal;font-family:Menlo,'DejaVu Sans Mono',consolas,'Courier New',monospace\"><span style=\"font-weight: bold\"> Trainable params: </span><span style=\"color: #00af00; text-decoration-color: #00af00\">16,800,136</span> (64.09 MB)\n",
              "</pre>\n"
            ]
          },
          "metadata": {}
        },
        {
          "output_type": "display_data",
          "data": {
            "text/plain": [
              "\u001b[1m Non-trainable params: \u001b[0m\u001b[38;5;34m0\u001b[0m (0.00 B)\n"
            ],
            "text/html": [
              "<pre style=\"white-space:pre;overflow-x:auto;line-height:normal;font-family:Menlo,'DejaVu Sans Mono',consolas,'Courier New',monospace\"><span style=\"font-weight: bold\"> Non-trainable params: </span><span style=\"color: #00af00; text-decoration-color: #00af00\">0</span> (0.00 B)\n",
              "</pre>\n"
            ]
          },
          "metadata": {}
        }
      ],
      "execution_count": 50
    },
    {
      "cell_type": "code",
      "source": [
        "from tensorflow.keras.callbacks import EarlyStopping, ModelCheckpoint\n",
        "\n",
        "early_stopping = EarlyStopping(monitor='val_loss', patience=3, restore_best_weights=True)\n",
        "model_checkpoint = ModelCheckpoint('model_checkpoint.keras', save_best_only=True)  # Updated filepath\n",
        "\n",
        "# Train the model with callbacks\n",
        "history = model.fit(\n",
        "    x=[x_train, y_train],# Exclude last token from decoder input\n",
        "    y=y_train,   # Exclude first token from decoder target\n",
        "    batch_size=32,\n",
        "    epochs=5,\n",
        "    validation_data=([x_test, y_test], y_test),\n",
        "    callbacks=[early_stopping, model_checkpoint],\n",
        ")"
      ],
      "metadata": {
        "execution": {
          "iopub.status.busy": "2024-09-19T09:17:57.32401Z",
          "iopub.execute_input": "2024-09-19T09:17:57.324299Z",
          "iopub.status.idle": "2024-09-19T09:23:32.287372Z",
          "shell.execute_reply.started": "2024-09-19T09:17:57.324275Z",
          "shell.execute_reply": "2024-09-19T09:23:32.286583Z"
        },
        "trusted": true,
        "colab": {
          "base_uri": "https://localhost:8080/"
        },
        "id": "livm5b4HYd-J",
        "outputId": "03967359-bd33-4176-d986-db0ca09192f5"
      },
      "outputs": [
        {
          "output_type": "stream",
          "name": "stdout",
          "text": [
            "Epoch 1/5\n",
            "\u001b[1m1254/1254\u001b[0m \u001b[32m━━━━━━━━━━━━━━━━━━━━\u001b[0m\u001b[37m\u001b[0m \u001b[1m335s\u001b[0m 263ms/step - accuracy: 0.9661 - loss: 0.8982 - val_accuracy: 0.9835 - val_loss: 0.1341\n",
            "Epoch 2/5\n",
            "\u001b[1m1254/1254\u001b[0m \u001b[32m━━━━━━━━━━━━━━━━━━━━\u001b[0m\u001b[37m\u001b[0m \u001b[1m329s\u001b[0m 262ms/step - accuracy: 0.9851 - loss: 0.1224 - val_accuracy: 0.9894 - val_loss: 0.0917\n",
            "Epoch 3/5\n",
            "\u001b[1m1254/1254\u001b[0m \u001b[32m━━━━━━━━━━━━━━━━━━━━\u001b[0m\u001b[37m\u001b[0m \u001b[1m382s\u001b[0m 263ms/step - accuracy: 0.9903 - loss: 0.0836 - val_accuracy: 0.9928 - val_loss: 0.0656\n",
            "Epoch 4/5\n",
            "\u001b[1m1254/1254\u001b[0m \u001b[32m━━━━━━━━━━━━━━━━━━━━\u001b[0m\u001b[37m\u001b[0m \u001b[1m382s\u001b[0m 262ms/step - accuracy: 0.9933 - loss: 0.0588 - val_accuracy: 0.9948 - val_loss: 0.0490\n",
            "Epoch 5/5\n",
            "\u001b[1m1254/1254\u001b[0m \u001b[32m━━━━━━━━━━━━━━━━━━━━\u001b[0m\u001b[37m\u001b[0m \u001b[1m382s\u001b[0m 262ms/step - accuracy: 0.9952 - loss: 0.0419 - val_accuracy: 0.9960 - val_loss: 0.0386\n"
          ]
        }
      ],
      "execution_count": 51
    },
    {
      "cell_type": "markdown",
      "source": [
        "<a id='5.2'></a>\n",
        "### **5.2. ENCODER-DECODER MODEL EVALUATION**"
      ],
      "metadata": {
        "id": "jV6pCMgxYd-J"
      }
    },
    {
      "cell_type": "code",
      "source": [
        "plt.plot(history.history['accuracy'],color = 'blue',label = 'accuracy')\n",
        "plt.plot(history.history['val_accuracy'],color = 'red',label = 'val_accuracy')\n",
        "plt.title(\"Training And Validation Accuracy Score\")\n",
        "plt.xlabel(\"accuracy\")\n",
        "plt.ylabel(\"epochs\")\n",
        "plt.grid()\n",
        "plt.legend()\n",
        "plt.show()"
      ],
      "metadata": {
        "execution": {
          "iopub.status.busy": "2024-09-19T08:21:04.168338Z",
          "iopub.execute_input": "2024-09-19T08:21:04.168669Z",
          "iopub.status.idle": "2024-09-19T08:21:04.500494Z",
          "shell.execute_reply.started": "2024-09-19T08:21:04.168642Z",
          "shell.execute_reply": "2024-09-19T08:21:04.499642Z"
        },
        "trusted": true,
        "colab": {
          "base_uri": "https://localhost:8080/",
          "height": 503
        },
        "id": "ehDs6718Yd-K",
        "outputId": "6688bf6f-d376-435d-b519-510c8fd2250f"
      },
      "outputs": [
        {
          "output_type": "display_data",
          "data": {
            "text/plain": [
              "<Figure size 640x480 with 1 Axes>"
            ],
            "image/png": "[encoded data removed]"
          },
          "metadata": {}
        }
      ],
      "execution_count": 52
    },
    {
      "cell_type": "code",
      "source": [
        "plt.plot(history.history['loss'],color = 'blue',label = 'loss')\n",
        "plt.plot(history.history['val_loss'],color = 'red',label = 'val_loss')\n",
        "plt.title(\"Training And Validation Loss Score\")\n",
        "plt.xlabel(\"loss\")\n",
        "plt.ylabel(\"epochs\")\n",
        "plt.grid()\n",
        "plt.legend()\n",
        "plt.show()"
      ],
      "metadata": {
        "execution": {
          "iopub.status.busy": "2024-09-19T08:21:04.501746Z",
          "iopub.execute_input": "2024-09-19T08:21:04.502106Z",
          "iopub.status.idle": "2024-09-19T08:21:04.776725Z",
          "shell.execute_reply.started": "2024-09-19T08:21:04.502073Z",
          "shell.execute_reply": "2024-09-19T08:21:04.77579Z"
        },
        "trusted": true,
        "colab": {
          "base_uri": "https://localhost:8080/",
          "height": 503
        },
        "id": "M-5Vo6NKYd-L",
        "outputId": "f018f548-8746-4568-ec34-9b6c45925cf6"
      },
      "outputs": [
        {
          "output_type": "display_data",
          "data": {
            "text/plain": [
              "<Figure size 640x480 with 1 Axes>"
            ],
            "image/png": "[encoded data removed]"
          },
          "metadata": {}
        }
      ],
      "execution_count": 53
    },
    {
      "cell_type": "markdown",
      "source": [
        "<a id='5.3'></a>\n",
        "### **5.3. PREDICTION FROM ENCODER-DECODER MODEL**"
      ],
      "metadata": {
        "execution": {
          "iopub.status.busy": "2024-07-17T17:03:22.474535Z",
          "iopub.execute_input": "2024-07-17T17:03:22.474977Z",
          "iopub.status.idle": "2024-07-17T17:03:22.479319Z",
          "shell.execute_reply.started": "2024-07-17T17:03:22.474942Z",
          "shell.execute_reply": "2024-07-17T17:03:22.478452Z"
        },
        "id": "cCDAlIsGYd-L"
      }
    },
    {
      "cell_type": "code",
      "source": [
        "import numpy as np\n",
        "import os\n",
        "os.environ['CUDA_VISIBLE_DEVICES'] = '-1'\n",
        "\n",
        "# Reverse token dictionaries\n",
        "rev_tok_hindi = {idx: word for word, idx in tok_hindi.word_index.items()}\n",
        "\n",
        "# Select a subset of test data\n",
        "num_samples = 10\n",
        "x_test_subset = x_test[:num_samples]\n",
        "y_test_padded_subset = y_test[:num_samples]\n",
        "\n",
        "# Predict\n",
        "predictions = model.predict([x_test_subset, y_test_padded_subset], batch_size=16)\n",
        "print('Shape of predictions:', predictions.shape)\n",
        "\n",
        "# Convert predictions to token indices\n",
        "predicted_tokens_np = np.argmax(predictions, axis=-1)\n",
        "print('Shape of predicted_tokens:', predicted_tokens_np.shape)\n",
        "\n",
        "# Map indices to tokens and remove 'start' and 'end' tokens\n",
        "predicted_sentences = []\n",
        "for sample in predicted_tokens_np:\n",
        "    sentence = ' '.join([rev_tok_hindi.get(token, '<unknown>') for token in sample if token != 0 and token not in [tok_hindi.word_index.get('start'), tok_hindi.word_index.get('end')]])  # Exclude padding, 'start', and 'end' tokens\n",
        "    predicted_sentences.append(sentence)\n",
        "\n",
        "# Reverse token dictionary for English (assuming you have `tok_english` for English tokens)\n",
        "rev_tok_english = {idx: word for word, idx in tok.word_index.items()}\n",
        "\n",
        "# Map the English test inputs to their corresponding sentences\n",
        "english_sentences = []\n",
        "for sample in x_test_subset:\n",
        "    sentence = ' '.join([rev_tok_english.get(token, '<unknown>') for token in sample if token != 0])  # Exclude padding token\n",
        "    english_sentences.append(sentence)\n",
        "\n",
        "# Print English sentence followed by predicted Hindi sentence\n",
        "for idx, (eng_sentence, hin_sentence) in enumerate(zip(english_sentences, predicted_sentences)):\n",
        "    print(f'English sentence {idx + 1}: {eng_sentence}')\n",
        "    print(f'Predicted Hindi translation {idx + 1}: {hin_sentence}\\n')\n"
      ],
      "metadata": {
        "execution": {
          "iopub.status.busy": "2024-09-19T08:21:04.77843Z",
          "iopub.execute_input": "2024-09-19T08:21:04.778703Z",
          "iopub.status.idle": "2024-09-19T08:21:05.37147Z",
          "shell.execute_reply.started": "2024-09-19T08:21:04.778679Z",
          "shell.execute_reply": "2024-09-19T08:21:05.370466Z"
        },
        "trusted": true,
        "colab": {
          "base_uri": "https://localhost:8080/"
        },
        "id": "gNppfvruYd-M",
        "outputId": "76e705a4-1ff8-4cf6-9463-fe40d2a1117b"
      },
      "outputs": [
        {
          "output_type": "stream",
          "name": "stdout",
          "text": [
            "\u001b[1m1/1\u001b[0m \u001b[32m━━━━━━━━━━━━━━━━━━━━\u001b[0m\u001b[37m\u001b[0m \u001b[1m0s\u001b[0m 415ms/step\n",
            "Shape of predictions: (10, 260, 24780)\n",
            "Shape of predicted_tokens: (10, 260)\n",
            "English sentence 1: sanskrit is the mother of all indian languages\n",
            "Predicted Hindi translation 1: संस्कृत सभी भारतीय भाषाओं की माता है।\n",
            "\n",
            "English sentence 2: so essentially it knows where to go\n",
            "Predicted Hindi translation 2: तो अनिवार्य रूप से यह जानता है कहाँ जाना है\n",
            "\n",
            "English sentence 3: i lost my best friend to a car accident\n",
            "Predicted Hindi translation 3: तब मैंने अपने सबसे अच्छे मित्र को सड़क दुर्घटना में खो दिया\n",
            "\n",
            "English sentence 4: clinics are listed in telephone directories\n",
            "Predicted Hindi translation 4: इन की सूची हुआ। में मिल जाएगी\n",
            "\n",
            "English sentence 5: i do not think in language\n",
            "Predicted Hindi translation 5: मै भाषा मे नही सोचती\n",
            "\n",
            "English sentence 6: and some of the stuff you saw there\n",
            "Predicted Hindi translation 6: और उसका एक हिस्सा आपने अभी देखा।\n",
            "\n",
            "English sentence 7: 10 in a row you move on\n",
            "Predicted Hindi translation 7: जब सवाल सही हो जाये आगे\n",
            "\n",
            "English sentence 8: the system also recognizes iconic gestures\n",
            "Predicted Hindi translation 8: यह प्रणाली गर्म को भी है\n",
            "\n",
            "English sentence 9: but nasa is developing the space liner always has\n",
            "Predicted Hindi translation 9: पर नासा अंतरिक्ष ह्यपृ बना रही है हमेशा से बनाती आई है\n",
            "\n",
            "English sentence 10: its foreign policies\n",
            "Predicted Hindi translation 10: अपनी विदेश नीतियों से\n",
            "\n"
          ]
        }
      ],
      "execution_count": 54
    },
    {
      "cell_type": "markdown",
      "source": [
        "<a id='5.4'></a>\n",
        "### **5.4. ENCODER-DECODER MODEL WITH ATTENTION**"
      ],
      "metadata": {
        "id": "O2xJounnYd-M"
      }
    },
    {
      "cell_type": "code",
      "source": [
        "import tensorflow as tf\n",
        "from tensorflow.keras.layers import Input, LSTM, Embedding, Dense, Attention, Concatenate\n",
        "from tensorflow.keras.models import Model\n",
        "\n",
        "# Define Encoder model\n",
        "encoder_inputs = Input(shape=(max_length_input,))\n",
        "encoder_embedding = Embedding(input_dim=input_vocab_size, output_dim=260)(encoder_inputs)\n",
        "encoder_lstm = LSTM(156, return_sequences=True, return_state=True)  # Ensure return_sequences=True\n",
        "encoder_outputs, state_h, state_c = encoder_lstm(encoder_embedding)\n",
        "encoder_states = [state_h, state_c]\n",
        "\n",
        "# Define Decoder model\n",
        "decoder_inputs = Input(shape=(max_length_output,))\n",
        "decoder_embedding = Embedding(input_dim=output_vocab_size, output_dim=260)(decoder_inputs)\n",
        "decoder_lstm = LSTM(156, return_sequences=True, return_state=True)\n",
        "decoder_outputs, _, _ = decoder_lstm(decoder_embedding, initial_state=encoder_states)\n",
        "\n",
        "# Attention Layer\n",
        "attention = Attention()([decoder_outputs, encoder_outputs])\n",
        "\n",
        "# Concatenate attention output with decoder outputs\n",
        "decoder_concat_input = Concatenate(axis=-1)([decoder_outputs, attention])\n",
        "\n",
        "# Dense Layer for output prediction\n",
        "decoder_dense = Dense(output_vocab_size, activation='softmax')\n",
        "decoder_outputs = decoder_dense(decoder_concat_input)\n",
        "\n",
        "# Define the full Encoder-Decoder model\n",
        "model = Model([encoder_inputs, decoder_inputs], decoder_outputs)\n",
        "\n",
        "# Compile the model\n",
        "model.compile(optimizer='adam', loss='sparse_categorical_crossentropy', metrics=['accuracy'])\n",
        "\n",
        "# Print model summary\n",
        "model.summary()\n"
      ],
      "metadata": {
        "execution": {
          "iopub.status.busy": "2024-09-19T08:25:56.751351Z",
          "iopub.execute_input": "2024-09-19T08:25:56.752126Z",
          "iopub.status.idle": "2024-09-19T08:25:56.853719Z",
          "shell.execute_reply.started": "2024-09-19T08:25:56.752093Z",
          "shell.execute_reply": "2024-09-19T08:25:56.852895Z"
        },
        "trusted": true,
        "colab": {
          "base_uri": "https://localhost:8080/",
          "height": 545
        },
        "id": "3PhB08_KYd-M",
        "outputId": "be4f14f3-c6e0-495f-e072-20ce6912b379"
      },
      "outputs": [
        {
          "output_type": "display_data",
          "data": {
            "text/plain": [
              "\u001b[1mModel: \"functional_1\"\u001b[0m\n"
            ],
            "text/html": [
              "<pre style=\"white-space:pre;overflow-x:auto;line-height:normal;font-family:Menlo,'DejaVu Sans Mono',consolas,'Courier New',monospace\"><span style=\"font-weight: bold\">Model: \"functional_1\"</span>\n",
              "</pre>\n"
            ]
          },
          "metadata": {}
        },
        {
          "output_type": "display_data",
          "data": {
            "text/plain": [
              "┏━━━━━━━━━━━━━━━━━━━━━━━━━━━┳━━━━━━━━━━━━━━━━━━━━━━━━┳━━━━━━━━━━━━━━━━┳━━━━━━━━━━━━━━━━━━━━━━━━┓\n",
              "┃\u001b[1m \u001b[0m\u001b[1mLayer (type)             \u001b[0m\u001b[1m \u001b[0m┃\u001b[1m \u001b[0m\u001b[1mOutput Shape          \u001b[0m\u001b[1m \u001b[0m┃\u001b[1m \u001b[0m\u001b[1m       Param #\u001b[0m\u001b[1m \u001b[0m┃\u001b[1m \u001b[0m\u001b[1mConnected to          \u001b[0m\u001b[1m \u001b[0m┃\n",
              "┡━━━━━━━━━━━━━━━━━━━━━━━━━━━╇━━━━━━━━━━━━━━━━━━━━━━━━╇━━━━━━━━━━━━━━━━╇━━━━━━━━━━━━━━━━━━━━━━━━┩\n",
              "│ input_layer_2             │ (\u001b[38;5;45mNone\u001b[0m, \u001b[38;5;34m260\u001b[0m)            │              \u001b[38;5;34m0\u001b[0m │ -                      │\n",
              "│ (\u001b[38;5;33mInputLayer\u001b[0m)              │                        │                │                        │\n",
              "├───────────────────────────┼────────────────────────┼────────────────┼────────────────────────┤\n",
              "│ input_layer_3             │ (\u001b[38;5;45mNone\u001b[0m, \u001b[38;5;34m260\u001b[0m)            │              \u001b[38;5;34m0\u001b[0m │ -                      │\n",
              "│ (\u001b[38;5;33mInputLayer\u001b[0m)              │                        │                │                        │\n",
              "├───────────────────────────┼────────────────────────┼────────────────┼────────────────────────┤\n",
              "│ embedding_2 (\u001b[38;5;33mEmbedding\u001b[0m)   │ (\u001b[38;5;45mNone\u001b[0m, \u001b[38;5;34m260\u001b[0m, \u001b[38;5;34m260\u001b[0m)       │      \u001b[38;5;34m5,946,460\u001b[0m │ input_layer_2[\u001b[38;5;34m0\u001b[0m][\u001b[38;5;34m0\u001b[0m]    │\n",
              "├───────────────────────────┼────────────────────────┼────────────────┼────────────────────────┤\n",
              "│ embedding_3 (\u001b[38;5;33mEmbedding\u001b[0m)   │ (\u001b[38;5;45mNone\u001b[0m, \u001b[38;5;34m260\u001b[0m, \u001b[38;5;34m260\u001b[0m)       │      \u001b[38;5;34m6,442,800\u001b[0m │ input_layer_3[\u001b[38;5;34m0\u001b[0m][\u001b[38;5;34m0\u001b[0m]    │\n",
              "├───────────────────────────┼────────────────────────┼────────────────┼────────────────────────┤\n",
              "│ lstm_2 (\u001b[38;5;33mLSTM\u001b[0m)             │ [(\u001b[38;5;45mNone\u001b[0m, \u001b[38;5;34m260\u001b[0m, \u001b[38;5;34m156\u001b[0m),     │        \u001b[38;5;34m260,208\u001b[0m │ embedding_2[\u001b[38;5;34m0\u001b[0m][\u001b[38;5;34m0\u001b[0m]      │\n",
              "│                           │ (\u001b[38;5;45mNone\u001b[0m, \u001b[38;5;34m156\u001b[0m), (\u001b[38;5;45mNone\u001b[0m,    │                │                        │\n",
              "│                           │ \u001b[38;5;34m156\u001b[0m)]                  │                │                        │\n",
              "├───────────────────────────┼────────────────────────┼────────────────┼────────────────────────┤\n",
              "│ lstm_3 (\u001b[38;5;33mLSTM\u001b[0m)             │ [(\u001b[38;5;45mNone\u001b[0m, \u001b[38;5;34m260\u001b[0m, \u001b[38;5;34m156\u001b[0m),     │        \u001b[38;5;34m260,208\u001b[0m │ embedding_3[\u001b[38;5;34m0\u001b[0m][\u001b[38;5;34m0\u001b[0m],     │\n",
              "│                           │ (\u001b[38;5;45mNone\u001b[0m, \u001b[38;5;34m156\u001b[0m), (\u001b[38;5;45mNone\u001b[0m,    │                │ lstm_2[\u001b[38;5;34m0\u001b[0m][\u001b[38;5;34m1\u001b[0m],          │\n",
              "│                           │ \u001b[38;5;34m156\u001b[0m)]                  │                │ lstm_2[\u001b[38;5;34m0\u001b[0m][\u001b[38;5;34m2\u001b[0m]           │\n",
              "├───────────────────────────┼────────────────────────┼────────────────┼────────────────────────┤\n",
              "│ attention (\u001b[38;5;33mAttention\u001b[0m)     │ (\u001b[38;5;45mNone\u001b[0m, \u001b[38;5;34m260\u001b[0m, \u001b[38;5;34m156\u001b[0m)       │              \u001b[38;5;34m0\u001b[0m │ lstm_3[\u001b[38;5;34m0\u001b[0m][\u001b[38;5;34m0\u001b[0m],          │\n",
              "│                           │                        │                │ lstm_2[\u001b[38;5;34m0\u001b[0m][\u001b[38;5;34m0\u001b[0m]           │\n",
              "├───────────────────────────┼────────────────────────┼────────────────┼────────────────────────┤\n",
              "│ concatenate (\u001b[38;5;33mConcatenate\u001b[0m) │ (\u001b[38;5;45mNone\u001b[0m, \u001b[38;5;34m260\u001b[0m, \u001b[38;5;34m312\u001b[0m)       │              \u001b[38;5;34m0\u001b[0m │ lstm_3[\u001b[38;5;34m0\u001b[0m][\u001b[38;5;34m0\u001b[0m],          │\n",
              "│                           │                        │                │ attention[\u001b[38;5;34m0\u001b[0m][\u001b[38;5;34m0\u001b[0m]        │\n",
              "├───────────────────────────┼────────────────────────┼────────────────┼────────────────────────┤\n",
              "│ dense_1 (\u001b[38;5;33mDense\u001b[0m)           │ (\u001b[38;5;45mNone\u001b[0m, \u001b[38;5;34m260\u001b[0m, \u001b[38;5;34m24780\u001b[0m)     │      \u001b[38;5;34m7,756,140\u001b[0m │ concatenate[\u001b[38;5;34m0\u001b[0m][\u001b[38;5;34m0\u001b[0m]      │\n",
              "└───────────────────────────┴────────────────────────┴────────────────┴────────────────────────┘\n"
            ],
            "text/html": [
              "<pre style=\"white-space:pre;overflow-x:auto;line-height:normal;font-family:Menlo,'DejaVu Sans Mono',consolas,'Courier New',monospace\">┏━━━━━━━━━━━━━━━━━━━━━━━━━━━┳━━━━━━━━━━━━━━━━━━━━━━━━┳━━━━━━━━━━━━━━━━┳━━━━━━━━━━━━━━━━━━━━━━━━┓\n",
              "┃<span style=\"font-weight: bold\"> Layer (type)              </span>┃<span style=\"font-weight: bold\"> Output Shape           </span>┃<span style=\"font-weight: bold\">        Param # </span>┃<span style=\"font-weight: bold\"> Connected to           </span>┃\n",
              "┡━━━━━━━━━━━━━━━━━━━━━━━━━━━╇━━━━━━━━━━━━━━━━━━━━━━━━╇━━━━━━━━━━━━━━━━╇━━━━━━━━━━━━━━━━━━━━━━━━┩\n",
              "│ input_layer_2             │ (<span style=\"color: #00d7ff; text-decoration-color: #00d7ff\">None</span>, <span style=\"color: #00af00; text-decoration-color: #00af00\">260</span>)            │              <span style=\"color: #00af00; text-decoration-color: #00af00\">0</span> │ -                      │\n",
              "│ (<span style=\"color: #0087ff; text-decoration-color: #0087ff\">InputLayer</span>)              │                        │                │                        │\n",
              "├───────────────────────────┼────────────────────────┼────────────────┼────────────────────────┤\n",
              "│ input_layer_3             │ (<span style=\"color: #00d7ff; text-decoration-color: #00d7ff\">None</span>, <span style=\"color: #00af00; text-decoration-color: #00af00\">260</span>)            │              <span style=\"color: #00af00; text-decoration-color: #00af00\">0</span> │ -                      │\n",
              "│ (<span style=\"color: #0087ff; text-decoration-color: #0087ff\">InputLayer</span>)              │                        │                │                        │\n",
              "├───────────────────────────┼────────────────────────┼────────────────┼────────────────────────┤\n",
              "│ embedding_2 (<span style=\"color: #0087ff; text-decoration-color: #0087ff\">Embedding</span>)   │ (<span style=\"color: #00d7ff; text-decoration-color: #00d7ff\">None</span>, <span style=\"color: #00af00; text-decoration-color: #00af00\">260</span>, <span style=\"color: #00af00; text-decoration-color: #00af00\">260</span>)       │      <span style=\"color: #00af00; text-decoration-color: #00af00\">5,946,460</span> │ input_layer_2[<span style=\"color: #00af00; text-decoration-color: #00af00\">0</span>][<span style=\"color: #00af00; text-decoration-color: #00af00\">0</span>]    │\n",
              "├───────────────────────────┼────────────────────────┼────────────────┼────────────────────────┤\n",
              "│ embedding_3 (<span style=\"color: #0087ff; text-decoration-color: #0087ff\">Embedding</span>)   │ (<span style=\"color: #00d7ff; text-decoration-color: #00d7ff\">None</span>, <span style=\"color: #00af00; text-decoration-color: #00af00\">260</span>, <span style=\"color: #00af00; text-decoration-color: #00af00\">260</span>)       │      <span style=\"color: #00af00; text-decoration-color: #00af00\">6,442,800</span> │ input_layer_3[<span style=\"color: #00af00; text-decoration-color: #00af00\">0</span>][<span style=\"color: #00af00; text-decoration-color: #00af00\">0</span>]    │\n",
              "├───────────────────────────┼────────────────────────┼────────────────┼────────────────────────┤\n",
              "│ lstm_2 (<span style=\"color: #0087ff; text-decoration-color: #0087ff\">LSTM</span>)             │ [(<span style=\"color: #00d7ff; text-decoration-color: #00d7ff\">None</span>, <span style=\"color: #00af00; text-decoration-color: #00af00\">260</span>, <span style=\"color: #00af00; text-decoration-color: #00af00\">156</span>),     │        <span style=\"color: #00af00; text-decoration-color: #00af00\">260,208</span> │ embedding_2[<span style=\"color: #00af00; text-decoration-color: #00af00\">0</span>][<span style=\"color: #00af00; text-decoration-color: #00af00\">0</span>]      │\n",
              "│                           │ (<span style=\"color: #00d7ff; text-decoration-color: #00d7ff\">None</span>, <span style=\"color: #00af00; text-decoration-color: #00af00\">156</span>), (<span style=\"color: #00d7ff; text-decoration-color: #00d7ff\">None</span>,    │                │                        │\n",
              "│                           │ <span style=\"color: #00af00; text-decoration-color: #00af00\">156</span>)]                  │                │                        │\n",
              "├───────────────────────────┼────────────────────────┼────────────────┼────────────────────────┤\n",
              "│ lstm_3 (<span style=\"color: #0087ff; text-decoration-color: #0087ff\">LSTM</span>)             │ [(<span style=\"color: #00d7ff; text-decoration-color: #00d7ff\">None</span>, <span style=\"color: #00af00; text-decoration-color: #00af00\">260</span>, <span style=\"color: #00af00; text-decoration-color: #00af00\">156</span>),     │        <span style=\"color: #00af00; text-decoration-color: #00af00\">260,208</span> │ embedding_3[<span style=\"color: #00af00; text-decoration-color: #00af00\">0</span>][<span style=\"color: #00af00; text-decoration-color: #00af00\">0</span>],     │\n",
              "│                           │ (<span style=\"color: #00d7ff; text-decoration-color: #00d7ff\">None</span>, <span style=\"color: #00af00; text-decoration-color: #00af00\">156</span>), (<span style=\"color: #00d7ff; text-decoration-color: #00d7ff\">None</span>,    │                │ lstm_2[<span style=\"color: #00af00; text-decoration-color: #00af00\">0</span>][<span style=\"color: #00af00; text-decoration-color: #00af00\">1</span>],          │\n",
              "│                           │ <span style=\"color: #00af00; text-decoration-color: #00af00\">156</span>)]                  │                │ lstm_2[<span style=\"color: #00af00; text-decoration-color: #00af00\">0</span>][<span style=\"color: #00af00; text-decoration-color: #00af00\">2</span>]           │\n",
              "├───────────────────────────┼────────────────────────┼────────────────┼────────────────────────┤\n",
              "│ attention (<span style=\"color: #0087ff; text-decoration-color: #0087ff\">Attention</span>)     │ (<span style=\"color: #00d7ff; text-decoration-color: #00d7ff\">None</span>, <span style=\"color: #00af00; text-decoration-color: #00af00\">260</span>, <span style=\"color: #00af00; text-decoration-color: #00af00\">156</span>)       │              <span style=\"color: #00af00; text-decoration-color: #00af00\">0</span> │ lstm_3[<span style=\"color: #00af00; text-decoration-color: #00af00\">0</span>][<span style=\"color: #00af00; text-decoration-color: #00af00\">0</span>],          │\n",
              "│                           │                        │                │ lstm_2[<span style=\"color: #00af00; text-decoration-color: #00af00\">0</span>][<span style=\"color: #00af00; text-decoration-color: #00af00\">0</span>]           │\n",
              "├───────────────────────────┼────────────────────────┼────────────────┼────────────────────────┤\n",
              "│ concatenate (<span style=\"color: #0087ff; text-decoration-color: #0087ff\">Concatenate</span>) │ (<span style=\"color: #00d7ff; text-decoration-color: #00d7ff\">None</span>, <span style=\"color: #00af00; text-decoration-color: #00af00\">260</span>, <span style=\"color: #00af00; text-decoration-color: #00af00\">312</span>)       │              <span style=\"color: #00af00; text-decoration-color: #00af00\">0</span> │ lstm_3[<span style=\"color: #00af00; text-decoration-color: #00af00\">0</span>][<span style=\"color: #00af00; text-decoration-color: #00af00\">0</span>],          │\n",
              "│                           │                        │                │ attention[<span style=\"color: #00af00; text-decoration-color: #00af00\">0</span>][<span style=\"color: #00af00; text-decoration-color: #00af00\">0</span>]        │\n",
              "├───────────────────────────┼────────────────────────┼────────────────┼────────────────────────┤\n",
              "│ dense_1 (<span style=\"color: #0087ff; text-decoration-color: #0087ff\">Dense</span>)           │ (<span style=\"color: #00d7ff; text-decoration-color: #00d7ff\">None</span>, <span style=\"color: #00af00; text-decoration-color: #00af00\">260</span>, <span style=\"color: #00af00; text-decoration-color: #00af00\">24780</span>)     │      <span style=\"color: #00af00; text-decoration-color: #00af00\">7,756,140</span> │ concatenate[<span style=\"color: #00af00; text-decoration-color: #00af00\">0</span>][<span style=\"color: #00af00; text-decoration-color: #00af00\">0</span>]      │\n",
              "└───────────────────────────┴────────────────────────┴────────────────┴────────────────────────┘\n",
              "</pre>\n"
            ]
          },
          "metadata": {}
        },
        {
          "output_type": "display_data",
          "data": {
            "text/plain": [
              "\u001b[1m Total params: \u001b[0m\u001b[38;5;34m20,665,816\u001b[0m (78.83 MB)\n"
            ],
            "text/html": [
              "<pre style=\"white-space:pre;overflow-x:auto;line-height:normal;font-family:Menlo,'DejaVu Sans Mono',consolas,'Courier New',monospace\"><span style=\"font-weight: bold\"> Total params: </span><span style=\"color: #00af00; text-decoration-color: #00af00\">20,665,816</span> (78.83 MB)\n",
              "</pre>\n"
            ]
          },
          "metadata": {}
        },
        {
          "output_type": "display_data",
          "data": {
            "text/plain": [
              "\u001b[1m Trainable params: \u001b[0m\u001b[38;5;34m20,665,816\u001b[0m (78.83 MB)\n"
            ],
            "text/html": [
              "<pre style=\"white-space:pre;overflow-x:auto;line-height:normal;font-family:Menlo,'DejaVu Sans Mono',consolas,'Courier New',monospace\"><span style=\"font-weight: bold\"> Trainable params: </span><span style=\"color: #00af00; text-decoration-color: #00af00\">20,665,816</span> (78.83 MB)\n",
              "</pre>\n"
            ]
          },
          "metadata": {}
        },
        {
          "output_type": "display_data",
          "data": {
            "text/plain": [
              "\u001b[1m Non-trainable params: \u001b[0m\u001b[38;5;34m0\u001b[0m (0.00 B)\n"
            ],
            "text/html": [
              "<pre style=\"white-space:pre;overflow-x:auto;line-height:normal;font-family:Menlo,'DejaVu Sans Mono',consolas,'Courier New',monospace\"><span style=\"font-weight: bold\"> Non-trainable params: </span><span style=\"color: #00af00; text-decoration-color: #00af00\">0</span> (0.00 B)\n",
              "</pre>\n"
            ]
          },
          "metadata": {}
        }
      ],
      "execution_count": 55
    },
    {
      "cell_type": "code",
      "source": [
        "early_stopping = EarlyStopping(monitor='val_loss', patience=3, restore_best_weights=True)\n",
        "model_checkpoint = ModelCheckpoint('model_checkpoint.keras', save_best_only=True)  # Updated filepath\n",
        "\n",
        "# Train the model with callbacks\n",
        "history = model.fit(\n",
        "    x=[x_train, y_train],# Exclude last token from decoder input\n",
        "    y=y_train,   # Exclude first token from decoder target\n",
        "    batch_size=32,\n",
        "    epochs=5,\n",
        "    validation_data=([x_test, y_test], y_test),\n",
        "    callbacks=[early_stopping, model_checkpoint],\n",
        ")"
      ],
      "metadata": {
        "execution": {
          "iopub.status.busy": "2024-09-19T08:26:17.51618Z",
          "iopub.execute_input": "2024-09-19T08:26:17.517428Z",
          "iopub.status.idle": "2024-09-19T09:00:52.782242Z",
          "shell.execute_reply.started": "2024-09-19T08:26:17.517391Z",
          "shell.execute_reply": "2024-09-19T09:00:52.781396Z"
        },
        "trusted": true,
        "colab": {
          "base_uri": "https://localhost:8080/"
        },
        "id": "aUwnLPlvYd-N",
        "outputId": "8693b9bc-7bb4-41ce-f6a0-ce9a9933dcd0"
      },
      "outputs": [
        {
          "output_type": "stream",
          "name": "stdout",
          "text": [
            "Epoch 1/5\n",
            "\u001b[1m1254/1254\u001b[0m \u001b[32m━━━━━━━━━━━━━━━━━━━━\u001b[0m\u001b[37m\u001b[0m \u001b[1m417s\u001b[0m 331ms/step - accuracy: 0.9688 - loss: 0.6431 - val_accuracy: 0.9859 - val_loss: 0.1200\n",
            "Epoch 2/5\n",
            "\u001b[1m1254/1254\u001b[0m \u001b[32m━━━━━━━━━━━━━━━━━━━━\u001b[0m\u001b[37m\u001b[0m \u001b[1m442s\u001b[0m 332ms/step - accuracy: 0.9878 - loss: 0.1059 - val_accuracy: 0.9918 - val_loss: 0.0766\n",
            "Epoch 3/5\n",
            "\u001b[1m1254/1254\u001b[0m \u001b[32m━━━━━━━━━━━━━━━━━━━━\u001b[0m\u001b[37m\u001b[0m \u001b[1m442s\u001b[0m 332ms/step - accuracy: 0.9925 - loss: 0.0674 - val_accuracy: 0.9945 - val_loss: 0.0541\n",
            "Epoch 4/5\n",
            "\u001b[1m1254/1254\u001b[0m \u001b[32m━━━━━━━━━━━━━━━━━━━━\u001b[0m\u001b[37m\u001b[0m \u001b[1m442s\u001b[0m 332ms/step - accuracy: 0.9950 - loss: 0.0449 - val_accuracy: 0.9960 - val_loss: 0.0407\n",
            "Epoch 5/5\n",
            "\u001b[1m1254/1254\u001b[0m \u001b[32m━━━━━━━━━━━━━━━━━━━━\u001b[0m\u001b[37m\u001b[0m \u001b[1m447s\u001b[0m 336ms/step - accuracy: 0.9965 - loss: 0.0309 - val_accuracy: 0.9969 - val_loss: 0.0322\n"
          ]
        }
      ],
      "execution_count": 56
    },
    {
      "cell_type": "markdown",
      "source": [
        "<a id='5.5'></a>\n",
        "### **5.5. ENCODER-DECODER MODEL WITH ATTENTION EVALUATION**"
      ],
      "metadata": {
        "id": "NN51Tnc2Yd-N"
      }
    },
    {
      "cell_type": "code",
      "source": [
        "plt.plot(history.history['accuracy'],color = 'blue',label = 'accuracy')\n",
        "plt.plot(history.history['val_accuracy'],color = 'red',label = 'val_accuracy')\n",
        "plt.title(\"Training And Validation Accuracy Score\")\n",
        "plt.xlabel(\"accuracy\")\n",
        "plt.ylabel(\"epochs\")\n",
        "plt.grid()\n",
        "plt.legend()\n",
        "plt.show()"
      ],
      "metadata": {
        "execution": {
          "iopub.status.busy": "2024-09-19T09:01:11.681751Z",
          "iopub.execute_input": "2024-09-19T09:01:11.682602Z",
          "iopub.status.idle": "2024-09-19T09:01:12.01507Z",
          "shell.execute_reply.started": "2024-09-19T09:01:11.682568Z",
          "shell.execute_reply": "2024-09-19T09:01:12.013995Z"
        },
        "trusted": true,
        "colab": {
          "base_uri": "https://localhost:8080/",
          "height": 503
        },
        "id": "eq_xtKLbYd-N",
        "outputId": "520ff834-3c3c-4fea-b246-ee748183fa63"
      },
      "outputs": [
        {
          "output_type": "display_data",
          "data": {
            "text/plain": [
              "<Figure size 640x480 with 1 Axes>"
            ],
            "image/png": "[encoded data removed]"
          },
          "metadata": {}
        }
      ],
      "execution_count": 57
    },
    {
      "cell_type": "code",
      "source": [
        "plt.plot(history.history['loss'],color = 'blue',label = 'loss')\n",
        "plt.plot(history.history['val_loss'],color = 'red',label = 'val_loss')\n",
        "plt.title(\"Training And Validation Loss Score\")\n",
        "plt.xlabel(\"loss\")\n",
        "plt.ylabel(\"epochs\")\n",
        "plt.grid()\n",
        "plt.legend()\n",
        "plt.show()"
      ],
      "metadata": {
        "execution": {
          "iopub.status.busy": "2024-09-19T09:01:12.402685Z",
          "iopub.execute_input": "2024-09-19T09:01:12.40299Z",
          "iopub.status.idle": "2024-09-19T09:01:12.732003Z",
          "shell.execute_reply.started": "2024-09-19T09:01:12.402965Z",
          "shell.execute_reply": "2024-09-19T09:01:12.731075Z"
        },
        "trusted": true,
        "colab": {
          "base_uri": "https://localhost:8080/",
          "height": 503
        },
        "id": "uE_kGpRKYd-O",
        "outputId": "246c03ff-763c-4f85-d1ae-5029ae0c4819"
      },
      "outputs": [
        {
          "output_type": "display_data",
          "data": {
            "text/plain": [
              "<Figure size 640x480 with 1 Axes>"
            ],
            "image/png": "[encoded data removed]"
          },
          "metadata": {}
        }
      ],
      "execution_count": 58
    },
    {
      "cell_type": "markdown",
      "source": [
        "<a id='5.6'></a>\n",
        "### **5.6. PREDICTION FROM ENCODER-DECODER MODEL WITH ATTENTION**"
      ],
      "metadata": {
        "id": "T-wyTkOoYd-O"
      }
    },
    {
      "cell_type": "code",
      "source": [
        "import numpy as np\n",
        "import os\n",
        "os.environ['CUDA_VISIBLE_DEVICES'] = '-1'\n",
        "\n",
        "# Reverse token dictionaries\n",
        "rev_tok_hindi = {idx: word for word, idx in tok_hindi.word_index.items()}\n",
        "\n",
        "# Select a subset of test data\n",
        "num_samples = 10\n",
        "x_test_subset = x_test[:num_samples]\n",
        "y_test_padded_subset = y_test[:num_samples]\n",
        "\n",
        "# Predict\n",
        "predictions = model.predict([x_test_subset, y_test_padded_subset], batch_size=16)\n",
        "print('Shape of predictions:', predictions.shape)\n",
        "\n",
        "# Convert predictions to token indices\n",
        "predicted_tokens_np = np.argmax(predictions, axis=-1)\n",
        "print('Shape of predicted_tokens:', predicted_tokens_np.shape)\n",
        "\n",
        "# Map indices to tokens and remove 'start' and 'end' tokens\n",
        "predicted_sentences = []\n",
        "for sample in predicted_tokens_np:\n",
        "    sentence = ' '.join([rev_tok_hindi.get(token, '<unknown>') for token in sample if token != 0 and token not in [tok_hindi.word_index.get('start'), tok_hindi.word_index.get('end')]])  # Exclude padding, 'start', and 'end' tokens\n",
        "    predicted_sentences.append(sentence)\n",
        "\n",
        "# Reverse token dictionary for English (assuming you have `tok_english` for English tokens)\n",
        "rev_tok_english = {idx: word for word, idx in tok.word_index.items()}\n",
        "\n",
        "# Map the English test inputs to their corresponding sentences\n",
        "english_sentences = []\n",
        "for sample in x_test_subset:\n",
        "    sentence = ' '.join([rev_tok_english.get(token, '<unknown>') for token in sample if token != 0])  # Exclude padding token\n",
        "    english_sentences.append(sentence)\n",
        "\n",
        "# Print English sentence followed by predicted Hindi sentence\n",
        "for idx, (eng_sentence, hin_sentence) in enumerate(zip(english_sentences, predicted_sentences)):\n",
        "    print(f'English sentence {idx + 1}: {eng_sentence}')\n",
        "    print(f'Predicted Hindi translation {idx + 1}: {hin_sentence}\\n')\n"
      ],
      "metadata": {
        "execution": {
          "iopub.status.busy": "2024-09-19T09:01:14.034653Z",
          "iopub.execute_input": "2024-09-19T09:01:14.035418Z",
          "iopub.status.idle": "2024-09-19T09:01:14.680621Z",
          "shell.execute_reply.started": "2024-09-19T09:01:14.035388Z",
          "shell.execute_reply": "2024-09-19T09:01:14.679607Z"
        },
        "trusted": true,
        "colab": {
          "base_uri": "https://localhost:8080/"
        },
        "id": "8UrZQ41QYd-O",
        "outputId": "b3bfde18-5da8-45fe-a7df-1fda4411f06d"
      },
      "outputs": [
        {
          "output_type": "stream",
          "name": "stdout",
          "text": [
            "\u001b[1m1/1\u001b[0m \u001b[32m━━━━━━━━━━━━━━━━━━━━\u001b[0m\u001b[37m\u001b[0m \u001b[1m0s\u001b[0m 239ms/step\n",
            "Shape of predictions: (10, 260, 24780)\n",
            "Shape of predicted_tokens: (10, 260)\n",
            "English sentence 1: sanskrit is the mother of all indian languages\n",
            "Predicted Hindi translation 1: संस्कृत सभी भारतीय भाषाओं की माता है।\n",
            "\n",
            "English sentence 2: so essentially it knows where to go\n",
            "Predicted Hindi translation 2: तो अनिवार्य रूप से यह जानता है कहाँ जाना है\n",
            "\n",
            "English sentence 3: i lost my best friend to a car accident\n",
            "Predicted Hindi translation 3: तब मैंने अपने सबसे अच्छे मित्र को सड़क दुर्घटना में खो दिया\n",
            "\n",
            "English sentence 4: clinics are listed in telephone directories\n",
            "Predicted Hindi translation 4: इन की सूची में मिल जाएगी\n",
            "\n",
            "English sentence 5: i do not think in language\n",
            "Predicted Hindi translation 5: मै भाषा मे नही सोचती\n",
            "\n",
            "English sentence 6: and some of the stuff you saw there\n",
            "Predicted Hindi translation 6: और उसका एक हिस्सा आपने अभी देखा।\n",
            "\n",
            "English sentence 7: 10 in a row you move on\n",
            "Predicted Hindi translation 7: जब बालीवुड सवाल सही हो जाये आगे\n",
            "\n",
            "English sentence 8: the system also recognizes iconic gestures\n",
            "Predicted Hindi translation 8: यह प्रणाली वृहत को भी है\n",
            "\n",
            "English sentence 9: but nasa is developing the space liner always has\n",
            "Predicted Hindi translation 9: पर नासा अंतरिक्ष यान बना रही है हमेशा से बनाती आई है\n",
            "\n",
            "English sentence 10: its foreign policies\n",
            "Predicted Hindi translation 10: अपनी विदेश नीतियों से\n",
            "\n"
          ]
        }
      ],
      "execution_count": 59
    },
    {
      "cell_type": "code",
      "source": [
        "x_test_subset"
      ],
      "metadata": {
        "colab": {
          "base_uri": "https://localhost:8080/"
        },
        "id": "KRjHZauqyGwj",
        "outputId": "6ef18ab9-25b2-455d-efc8-9f3a7999ab81"
      },
      "execution_count": 75,
      "outputs": [
        {
          "output_type": "execute_result",
          "data": {
            "text/plain": [
              "array([[ 235,    5,    1, ...,    0,    0,    0],\n",
              "       [  20, 1586,   12, ...,    0,    0,    0],\n",
              "       [   8,  527,   25, ...,    0,    0,    0],\n",
              "       ...,\n",
              "       [   1,  228,   58, ...,    0,    0,    0],\n",
              "       [  26, 1290,    5, ...,    0,    0,    0],\n",
              "       [  29,  699, 2388, ...,    0,    0,    0]], dtype=int32)"
            ]
          },
          "metadata": {},
          "execution_count": 75
        }
      ]
    },
    {
      "cell_type": "markdown",
      "source": [
        "<a id='5.7'></a>\n",
        "### **5.7. Saving the best weight**"
      ],
      "metadata": {
        "id": "JreSh15pYd-P"
      }
    },
    {
      "cell_type": "code",
      "source": [
        "# Save the entire model\n",
        "model.save('encoder_decoder_model.keras')\n",
        "print('Model saved succesfully!!')"
      ],
      "metadata": {
        "execution": {
          "iopub.status.busy": "2024-09-19T09:23:36.515706Z",
          "iopub.execute_input": "2024-09-19T09:23:36.516089Z",
          "iopub.status.idle": "2024-09-19T09:23:36.807806Z",
          "shell.execute_reply.started": "2024-09-19T09:23:36.51606Z",
          "shell.execute_reply": "2024-09-19T09:23:36.806924Z"
        },
        "trusted": true,
        "colab": {
          "base_uri": "https://localhost:8080/"
        },
        "id": "oEt7_xqKYd-P",
        "outputId": "50f06cc5-7bfb-4a7c-e713-bab30497850f"
      },
      "outputs": [
        {
          "output_type": "stream",
          "name": "stdout",
          "text": [
            "Model saved succesfully!!\n"
          ]
        }
      ],
      "execution_count": 74
    }
  ]
}